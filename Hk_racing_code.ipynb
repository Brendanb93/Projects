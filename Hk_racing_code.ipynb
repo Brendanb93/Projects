{
  "nbformat": 4,
  "nbformat_minor": 0,
  "metadata": {
    "colab": {
      "provenance": [],
      "toc_visible": true,
      "authorship_tag": "ABX9TyMqhKE5CvG07+Dmc134uf1D",
      "include_colab_link": true
    },
    "kernelspec": {
      "name": "python3",
      "display_name": "Python 3"
    },
    "language_info": {
      "name": "python"
    }
  },
  "cells": [
    {
      "cell_type": "markdown",
      "metadata": {
        "id": "view-in-github",
        "colab_type": "text"
      },
      "source": [
        "<a href=\"https://colab.research.google.com/github/Brendanb93/Projects/blob/main/Hk_racing_code.ipynb\" target=\"_parent\"><img src=\"https://colab.research.google.com/assets/colab-badge.svg\" alt=\"Open In Colab\"/></a>"
      ]
    },
    {
      "cell_type": "markdown",
      "source": [
        "# Hong Kong Horse Racing 1997-2005"
      ],
      "metadata": {
        "id": "UBaDmk02Cc7P"
      }
    },
    {
      "cell_type": "markdown",
      "source": [
        "## 1. Data review and cleaning"
      ],
      "metadata": {
        "id": "CdGjONvmD_UG"
      }
    },
    {
      "cell_type": "markdown",
      "source": [
        "Data from [Kaggle](https://www.kaggle.com/datasets/gdaley/hkracing), it is comprised of data from several free sources.\n",
        "\n",
        "* Races.csv contains details on the race\n",
        "* Runs.csv contains details on the horses in the race"
      ],
      "metadata": {
        "id": "v-JfqWLuEP8N"
      }
    },
    {
      "cell_type": "code",
      "source": [
        "#Import required libraries\n",
        "import numpy as np\n",
        "import pandas as pd\n",
        "from pandas.plotting import table\n",
        "import matplotlib.pyplot as plt\n",
        "import seaborn as sns\n",
        "from datetime import datetime"
      ],
      "metadata": {
        "id": "KuYO_1ReCtCU"
      },
      "execution_count": null,
      "outputs": []
    },
    {
      "cell_type": "code",
      "source": [
        "#mounting drive to access the data files\n",
        "from google.colab import drive\n",
        "drive.mount('/content/drive')\n",
        "\n",
        "%cd /content/drive/MyDrive"
      ],
      "metadata": {
        "colab": {
          "base_uri": "https://localhost:8080/"
        },
        "id": "W4c08xTIpPwz",
        "outputId": "9d4702af-8c60-4983-d30d-9a3561065d1e"
      },
      "execution_count": null,
      "outputs": [
        {
          "output_type": "stream",
          "name": "stdout",
          "text": [
            "Drive already mounted at /content/drive; to attempt to forcibly remount, call drive.mount(\"/content/drive\", force_remount=True).\n",
            "/content/drive/MyDrive\n"
          ]
        }
      ]
    },
    {
      "cell_type": "code",
      "source": [
        "#Read in and print the first data file\n",
        "horse = pd.read_csv(\"Hk_racing/runs.csv\")\n",
        "horse.head()"
      ],
      "metadata": {
        "colab": {
          "base_uri": "https://localhost:8080/",
          "height": 256
        },
        "id": "UqXZ4Vm4Cu85",
        "outputId": "dbe0bc07-78e2-479e-cc68-e6bfdf2c7136"
      },
      "execution_count": null,
      "outputs": [
        {
          "output_type": "execute_result",
          "data": {
            "text/plain": [
              "   race_id  horse_no  horse_id  result  won  lengths_behind  horse_age  \\\n",
              "0        0         1      3917      10  0.0            8.00          3   \n",
              "1        0         2      2157       8  0.0            5.75          3   \n",
              "2        0         3       858       7  0.0            4.75          3   \n",
              "3        0         4      1853       9  0.0            6.25          3   \n",
              "4        0         5      2796       6  0.0            3.75          3   \n",
              "\n",
              "  horse_country horse_type  horse_rating  ...  time2  time3  time4  time5  \\\n",
              "0           AUS    Gelding            60  ...  21.59  23.86  24.62    NaN   \n",
              "1            NZ    Gelding            60  ...  21.99  23.30  23.70    NaN   \n",
              "2            NZ    Gelding            60  ...  21.59  23.90  24.22    NaN   \n",
              "3           SAF    Gelding            60  ...  21.83  23.70  24.00    NaN   \n",
              "4            GB    Gelding            60  ...  21.75  23.22  23.50    NaN   \n",
              "\n",
              "   time6  finish_time  win_odds  place_odds  trainer_id  jockey_id  \n",
              "0    NaN        83.92       9.7         3.7         118          2  \n",
              "1    NaN        83.56      16.0         4.9         164         57  \n",
              "2    NaN        83.40       3.5         1.5         137         18  \n",
              "3    NaN        83.62      39.0        11.0          80         59  \n",
              "4    NaN        83.24      50.0        14.0           9        154  \n",
              "\n",
              "[5 rows x 37 columns]"
            ],
            "text/html": [
              "\n",
              "  <div id=\"df-53c09cab-eeb7-4d9b-b486-23627e3373c5\" class=\"colab-df-container\">\n",
              "    <div>\n",
              "<style scoped>\n",
              "    .dataframe tbody tr th:only-of-type {\n",
              "        vertical-align: middle;\n",
              "    }\n",
              "\n",
              "    .dataframe tbody tr th {\n",
              "        vertical-align: top;\n",
              "    }\n",
              "\n",
              "    .dataframe thead th {\n",
              "        text-align: right;\n",
              "    }\n",
              "</style>\n",
              "<table border=\"1\" class=\"dataframe\">\n",
              "  <thead>\n",
              "    <tr style=\"text-align: right;\">\n",
              "      <th></th>\n",
              "      <th>race_id</th>\n",
              "      <th>horse_no</th>\n",
              "      <th>horse_id</th>\n",
              "      <th>result</th>\n",
              "      <th>won</th>\n",
              "      <th>lengths_behind</th>\n",
              "      <th>horse_age</th>\n",
              "      <th>horse_country</th>\n",
              "      <th>horse_type</th>\n",
              "      <th>horse_rating</th>\n",
              "      <th>...</th>\n",
              "      <th>time2</th>\n",
              "      <th>time3</th>\n",
              "      <th>time4</th>\n",
              "      <th>time5</th>\n",
              "      <th>time6</th>\n",
              "      <th>finish_time</th>\n",
              "      <th>win_odds</th>\n",
              "      <th>place_odds</th>\n",
              "      <th>trainer_id</th>\n",
              "      <th>jockey_id</th>\n",
              "    </tr>\n",
              "  </thead>\n",
              "  <tbody>\n",
              "    <tr>\n",
              "      <th>0</th>\n",
              "      <td>0</td>\n",
              "      <td>1</td>\n",
              "      <td>3917</td>\n",
              "      <td>10</td>\n",
              "      <td>0.0</td>\n",
              "      <td>8.00</td>\n",
              "      <td>3</td>\n",
              "      <td>AUS</td>\n",
              "      <td>Gelding</td>\n",
              "      <td>60</td>\n",
              "      <td>...</td>\n",
              "      <td>21.59</td>\n",
              "      <td>23.86</td>\n",
              "      <td>24.62</td>\n",
              "      <td>NaN</td>\n",
              "      <td>NaN</td>\n",
              "      <td>83.92</td>\n",
              "      <td>9.7</td>\n",
              "      <td>3.7</td>\n",
              "      <td>118</td>\n",
              "      <td>2</td>\n",
              "    </tr>\n",
              "    <tr>\n",
              "      <th>1</th>\n",
              "      <td>0</td>\n",
              "      <td>2</td>\n",
              "      <td>2157</td>\n",
              "      <td>8</td>\n",
              "      <td>0.0</td>\n",
              "      <td>5.75</td>\n",
              "      <td>3</td>\n",
              "      <td>NZ</td>\n",
              "      <td>Gelding</td>\n",
              "      <td>60</td>\n",
              "      <td>...</td>\n",
              "      <td>21.99</td>\n",
              "      <td>23.30</td>\n",
              "      <td>23.70</td>\n",
              "      <td>NaN</td>\n",
              "      <td>NaN</td>\n",
              "      <td>83.56</td>\n",
              "      <td>16.0</td>\n",
              "      <td>4.9</td>\n",
              "      <td>164</td>\n",
              "      <td>57</td>\n",
              "    </tr>\n",
              "    <tr>\n",
              "      <th>2</th>\n",
              "      <td>0</td>\n",
              "      <td>3</td>\n",
              "      <td>858</td>\n",
              "      <td>7</td>\n",
              "      <td>0.0</td>\n",
              "      <td>4.75</td>\n",
              "      <td>3</td>\n",
              "      <td>NZ</td>\n",
              "      <td>Gelding</td>\n",
              "      <td>60</td>\n",
              "      <td>...</td>\n",
              "      <td>21.59</td>\n",
              "      <td>23.90</td>\n",
              "      <td>24.22</td>\n",
              "      <td>NaN</td>\n",
              "      <td>NaN</td>\n",
              "      <td>83.40</td>\n",
              "      <td>3.5</td>\n",
              "      <td>1.5</td>\n",
              "      <td>137</td>\n",
              "      <td>18</td>\n",
              "    </tr>\n",
              "    <tr>\n",
              "      <th>3</th>\n",
              "      <td>0</td>\n",
              "      <td>4</td>\n",
              "      <td>1853</td>\n",
              "      <td>9</td>\n",
              "      <td>0.0</td>\n",
              "      <td>6.25</td>\n",
              "      <td>3</td>\n",
              "      <td>SAF</td>\n",
              "      <td>Gelding</td>\n",
              "      <td>60</td>\n",
              "      <td>...</td>\n",
              "      <td>21.83</td>\n",
              "      <td>23.70</td>\n",
              "      <td>24.00</td>\n",
              "      <td>NaN</td>\n",
              "      <td>NaN</td>\n",
              "      <td>83.62</td>\n",
              "      <td>39.0</td>\n",
              "      <td>11.0</td>\n",
              "      <td>80</td>\n",
              "      <td>59</td>\n",
              "    </tr>\n",
              "    <tr>\n",
              "      <th>4</th>\n",
              "      <td>0</td>\n",
              "      <td>5</td>\n",
              "      <td>2796</td>\n",
              "      <td>6</td>\n",
              "      <td>0.0</td>\n",
              "      <td>3.75</td>\n",
              "      <td>3</td>\n",
              "      <td>GB</td>\n",
              "      <td>Gelding</td>\n",
              "      <td>60</td>\n",
              "      <td>...</td>\n",
              "      <td>21.75</td>\n",
              "      <td>23.22</td>\n",
              "      <td>23.50</td>\n",
              "      <td>NaN</td>\n",
              "      <td>NaN</td>\n",
              "      <td>83.24</td>\n",
              "      <td>50.0</td>\n",
              "      <td>14.0</td>\n",
              "      <td>9</td>\n",
              "      <td>154</td>\n",
              "    </tr>\n",
              "  </tbody>\n",
              "</table>\n",
              "<p>5 rows × 37 columns</p>\n",
              "</div>\n",
              "    <div class=\"colab-df-buttons\">\n",
              "\n",
              "  <div class=\"colab-df-container\">\n",
              "    <button class=\"colab-df-convert\" onclick=\"convertToInteractive('df-53c09cab-eeb7-4d9b-b486-23627e3373c5')\"\n",
              "            title=\"Convert this dataframe to an interactive table.\"\n",
              "            style=\"display:none;\">\n",
              "\n",
              "  <svg xmlns=\"http://www.w3.org/2000/svg\" height=\"24px\" viewBox=\"0 -960 960 960\">\n",
              "    <path d=\"M120-120v-720h720v720H120Zm60-500h600v-160H180v160Zm220 220h160v-160H400v160Zm0 220h160v-160H400v160ZM180-400h160v-160H180v160Zm440 0h160v-160H620v160ZM180-180h160v-160H180v160Zm440 0h160v-160H620v160Z\"/>\n",
              "  </svg>\n",
              "    </button>\n",
              "\n",
              "  <style>\n",
              "    .colab-df-container {\n",
              "      display:flex;\n",
              "      gap: 12px;\n",
              "    }\n",
              "\n",
              "    .colab-df-convert {\n",
              "      background-color: #E8F0FE;\n",
              "      border: none;\n",
              "      border-radius: 50%;\n",
              "      cursor: pointer;\n",
              "      display: none;\n",
              "      fill: #1967D2;\n",
              "      height: 32px;\n",
              "      padding: 0 0 0 0;\n",
              "      width: 32px;\n",
              "    }\n",
              "\n",
              "    .colab-df-convert:hover {\n",
              "      background-color: #E2EBFA;\n",
              "      box-shadow: 0px 1px 2px rgba(60, 64, 67, 0.3), 0px 1px 3px 1px rgba(60, 64, 67, 0.15);\n",
              "      fill: #174EA6;\n",
              "    }\n",
              "\n",
              "    .colab-df-buttons div {\n",
              "      margin-bottom: 4px;\n",
              "    }\n",
              "\n",
              "    [theme=dark] .colab-df-convert {\n",
              "      background-color: #3B4455;\n",
              "      fill: #D2E3FC;\n",
              "    }\n",
              "\n",
              "    [theme=dark] .colab-df-convert:hover {\n",
              "      background-color: #434B5C;\n",
              "      box-shadow: 0px 1px 3px 1px rgba(0, 0, 0, 0.15);\n",
              "      filter: drop-shadow(0px 1px 2px rgba(0, 0, 0, 0.3));\n",
              "      fill: #FFFFFF;\n",
              "    }\n",
              "  </style>\n",
              "\n",
              "    <script>\n",
              "      const buttonEl =\n",
              "        document.querySelector('#df-53c09cab-eeb7-4d9b-b486-23627e3373c5 button.colab-df-convert');\n",
              "      buttonEl.style.display =\n",
              "        google.colab.kernel.accessAllowed ? 'block' : 'none';\n",
              "\n",
              "      async function convertToInteractive(key) {\n",
              "        const element = document.querySelector('#df-53c09cab-eeb7-4d9b-b486-23627e3373c5');\n",
              "        const dataTable =\n",
              "          await google.colab.kernel.invokeFunction('convertToInteractive',\n",
              "                                                    [key], {});\n",
              "        if (!dataTable) return;\n",
              "\n",
              "        const docLinkHtml = 'Like what you see? Visit the ' +\n",
              "          '<a target=\"_blank\" href=https://colab.research.google.com/notebooks/data_table.ipynb>data table notebook</a>'\n",
              "          + ' to learn more about interactive tables.';\n",
              "        element.innerHTML = '';\n",
              "        dataTable['output_type'] = 'display_data';\n",
              "        await google.colab.output.renderOutput(dataTable, element);\n",
              "        const docLink = document.createElement('div');\n",
              "        docLink.innerHTML = docLinkHtml;\n",
              "        element.appendChild(docLink);\n",
              "      }\n",
              "    </script>\n",
              "  </div>\n",
              "\n",
              "\n",
              "<div id=\"df-78528061-349d-4910-bfc5-85e3bc66526c\">\n",
              "  <button class=\"colab-df-quickchart\" onclick=\"quickchart('df-78528061-349d-4910-bfc5-85e3bc66526c')\"\n",
              "            title=\"Suggest charts.\"\n",
              "            style=\"display:none;\">\n",
              "\n",
              "<svg xmlns=\"http://www.w3.org/2000/svg\" height=\"24px\"viewBox=\"0 0 24 24\"\n",
              "     width=\"24px\">\n",
              "    <g>\n",
              "        <path d=\"M19 3H5c-1.1 0-2 .9-2 2v14c0 1.1.9 2 2 2h14c1.1 0 2-.9 2-2V5c0-1.1-.9-2-2-2zM9 17H7v-7h2v7zm4 0h-2V7h2v10zm4 0h-2v-4h2v4z\"/>\n",
              "    </g>\n",
              "</svg>\n",
              "  </button>\n",
              "\n",
              "<style>\n",
              "  .colab-df-quickchart {\n",
              "      --bg-color: #E8F0FE;\n",
              "      --fill-color: #1967D2;\n",
              "      --hover-bg-color: #E2EBFA;\n",
              "      --hover-fill-color: #174EA6;\n",
              "      --disabled-fill-color: #AAA;\n",
              "      --disabled-bg-color: #DDD;\n",
              "  }\n",
              "\n",
              "  [theme=dark] .colab-df-quickchart {\n",
              "      --bg-color: #3B4455;\n",
              "      --fill-color: #D2E3FC;\n",
              "      --hover-bg-color: #434B5C;\n",
              "      --hover-fill-color: #FFFFFF;\n",
              "      --disabled-bg-color: #3B4455;\n",
              "      --disabled-fill-color: #666;\n",
              "  }\n",
              "\n",
              "  .colab-df-quickchart {\n",
              "    background-color: var(--bg-color);\n",
              "    border: none;\n",
              "    border-radius: 50%;\n",
              "    cursor: pointer;\n",
              "    display: none;\n",
              "    fill: var(--fill-color);\n",
              "    height: 32px;\n",
              "    padding: 0;\n",
              "    width: 32px;\n",
              "  }\n",
              "\n",
              "  .colab-df-quickchart:hover {\n",
              "    background-color: var(--hover-bg-color);\n",
              "    box-shadow: 0 1px 2px rgba(60, 64, 67, 0.3), 0 1px 3px 1px rgba(60, 64, 67, 0.15);\n",
              "    fill: var(--button-hover-fill-color);\n",
              "  }\n",
              "\n",
              "  .colab-df-quickchart-complete:disabled,\n",
              "  .colab-df-quickchart-complete:disabled:hover {\n",
              "    background-color: var(--disabled-bg-color);\n",
              "    fill: var(--disabled-fill-color);\n",
              "    box-shadow: none;\n",
              "  }\n",
              "\n",
              "  .colab-df-spinner {\n",
              "    border: 2px solid var(--fill-color);\n",
              "    border-color: transparent;\n",
              "    border-bottom-color: var(--fill-color);\n",
              "    animation:\n",
              "      spin 1s steps(1) infinite;\n",
              "  }\n",
              "\n",
              "  @keyframes spin {\n",
              "    0% {\n",
              "      border-color: transparent;\n",
              "      border-bottom-color: var(--fill-color);\n",
              "      border-left-color: var(--fill-color);\n",
              "    }\n",
              "    20% {\n",
              "      border-color: transparent;\n",
              "      border-left-color: var(--fill-color);\n",
              "      border-top-color: var(--fill-color);\n",
              "    }\n",
              "    30% {\n",
              "      border-color: transparent;\n",
              "      border-left-color: var(--fill-color);\n",
              "      border-top-color: var(--fill-color);\n",
              "      border-right-color: var(--fill-color);\n",
              "    }\n",
              "    40% {\n",
              "      border-color: transparent;\n",
              "      border-right-color: var(--fill-color);\n",
              "      border-top-color: var(--fill-color);\n",
              "    }\n",
              "    60% {\n",
              "      border-color: transparent;\n",
              "      border-right-color: var(--fill-color);\n",
              "    }\n",
              "    80% {\n",
              "      border-color: transparent;\n",
              "      border-right-color: var(--fill-color);\n",
              "      border-bottom-color: var(--fill-color);\n",
              "    }\n",
              "    90% {\n",
              "      border-color: transparent;\n",
              "      border-bottom-color: var(--fill-color);\n",
              "    }\n",
              "  }\n",
              "</style>\n",
              "\n",
              "  <script>\n",
              "    async function quickchart(key) {\n",
              "      const quickchartButtonEl =\n",
              "        document.querySelector('#' + key + ' button');\n",
              "      quickchartButtonEl.disabled = true;  // To prevent multiple clicks.\n",
              "      quickchartButtonEl.classList.add('colab-df-spinner');\n",
              "      try {\n",
              "        const charts = await google.colab.kernel.invokeFunction(\n",
              "            'suggestCharts', [key], {});\n",
              "      } catch (error) {\n",
              "        console.error('Error during call to suggestCharts:', error);\n",
              "      }\n",
              "      quickchartButtonEl.classList.remove('colab-df-spinner');\n",
              "      quickchartButtonEl.classList.add('colab-df-quickchart-complete');\n",
              "    }\n",
              "    (() => {\n",
              "      let quickchartButtonEl =\n",
              "        document.querySelector('#df-78528061-349d-4910-bfc5-85e3bc66526c button');\n",
              "      quickchartButtonEl.style.display =\n",
              "        google.colab.kernel.accessAllowed ? 'block' : 'none';\n",
              "    })();\n",
              "  </script>\n",
              "</div>\n",
              "    </div>\n",
              "  </div>\n"
            ]
          },
          "metadata": {},
          "execution_count": 17
        }
      ]
    },
    {
      "cell_type": "code",
      "source": [
        "#Read in and print the second data file\n",
        "race= pd.read_csv(\"Hk_racing/races.csv\")\n",
        "race.head()"
      ],
      "metadata": {
        "colab": {
          "base_uri": "https://localhost:8080/",
          "height": 473
        },
        "id": "oQQbqATnDwUw",
        "outputId": "400f0a62-93eb-4b1a-8537-654fdb7aba50"
      },
      "execution_count": null,
      "outputs": [
        {
          "output_type": "execute_result",
          "data": {
            "text/plain": [
              "   race_id        date venue  race_no config  surface  distance         going  \\\n",
              "0        0  1997-06-02    ST        1      A        0      1400  GOOD TO FIRM   \n",
              "1        1  1997-06-02    ST        2      A        0      1200  GOOD TO FIRM   \n",
              "2        2  1997-06-02    ST        3      A        0      1400  GOOD TO FIRM   \n",
              "3        3  1997-06-02    ST        4      A        0      1200  GOOD TO FIRM   \n",
              "4        4  1997-06-02    ST        5      A        0      1600  GOOD TO FIRM   \n",
              "\n",
              "  horse_ratings      prize  ...  place_combination3  place_combination4  \\\n",
              "0         40-15   485000.0  ...                 6.0                 NaN   \n",
              "1         40-15   485000.0  ...                 4.0                 NaN   \n",
              "2         60-40   625000.0  ...                13.0                 NaN   \n",
              "3        120-95  1750000.0  ...                10.0                 NaN   \n",
              "4         60-40   625000.0  ...                 1.0                 NaN   \n",
              "\n",
              "   place_dividend1  place_dividend2  place_dividend3  place_dividend4  \\\n",
              "0             36.5             25.5             18.0              NaN   \n",
              "1             12.5             47.0             33.5              NaN   \n",
              "2             23.0             23.0             59.5              NaN   \n",
              "3             14.0             24.5             16.0              NaN   \n",
              "4             15.5             28.0             17.5              NaN   \n",
              "\n",
              "   win_combination1  win_dividend1  win_combination2  win_dividend2  \n",
              "0                 8          121.0               NaN            NaN  \n",
              "1                 5           23.5               NaN            NaN  \n",
              "2                11           70.0               NaN            NaN  \n",
              "3                 5           52.0               NaN            NaN  \n",
              "4                 2           36.5               NaN            NaN  \n",
              "\n",
              "[5 rows x 37 columns]"
            ],
            "text/html": [
              "\n",
              "  <div id=\"df-d720c4a1-ff3d-4ffa-880d-02054f695a0e\">\n",
              "    <div class=\"colab-df-container\">\n",
              "      <div>\n",
              "<style scoped>\n",
              "    .dataframe tbody tr th:only-of-type {\n",
              "        vertical-align: middle;\n",
              "    }\n",
              "\n",
              "    .dataframe tbody tr th {\n",
              "        vertical-align: top;\n",
              "    }\n",
              "\n",
              "    .dataframe thead th {\n",
              "        text-align: right;\n",
              "    }\n",
              "</style>\n",
              "<table border=\"1\" class=\"dataframe\">\n",
              "  <thead>\n",
              "    <tr style=\"text-align: right;\">\n",
              "      <th></th>\n",
              "      <th>race_id</th>\n",
              "      <th>date</th>\n",
              "      <th>venue</th>\n",
              "      <th>race_no</th>\n",
              "      <th>config</th>\n",
              "      <th>surface</th>\n",
              "      <th>distance</th>\n",
              "      <th>going</th>\n",
              "      <th>horse_ratings</th>\n",
              "      <th>prize</th>\n",
              "      <th>...</th>\n",
              "      <th>place_combination3</th>\n",
              "      <th>place_combination4</th>\n",
              "      <th>place_dividend1</th>\n",
              "      <th>place_dividend2</th>\n",
              "      <th>place_dividend3</th>\n",
              "      <th>place_dividend4</th>\n",
              "      <th>win_combination1</th>\n",
              "      <th>win_dividend1</th>\n",
              "      <th>win_combination2</th>\n",
              "      <th>win_dividend2</th>\n",
              "    </tr>\n",
              "  </thead>\n",
              "  <tbody>\n",
              "    <tr>\n",
              "      <th>0</th>\n",
              "      <td>0</td>\n",
              "      <td>1997-06-02</td>\n",
              "      <td>ST</td>\n",
              "      <td>1</td>\n",
              "      <td>A</td>\n",
              "      <td>0</td>\n",
              "      <td>1400</td>\n",
              "      <td>GOOD TO FIRM</td>\n",
              "      <td>40-15</td>\n",
              "      <td>485000.0</td>\n",
              "      <td>...</td>\n",
              "      <td>6.0</td>\n",
              "      <td>NaN</td>\n",
              "      <td>36.5</td>\n",
              "      <td>25.5</td>\n",
              "      <td>18.0</td>\n",
              "      <td>NaN</td>\n",
              "      <td>8</td>\n",
              "      <td>121.0</td>\n",
              "      <td>NaN</td>\n",
              "      <td>NaN</td>\n",
              "    </tr>\n",
              "    <tr>\n",
              "      <th>1</th>\n",
              "      <td>1</td>\n",
              "      <td>1997-06-02</td>\n",
              "      <td>ST</td>\n",
              "      <td>2</td>\n",
              "      <td>A</td>\n",
              "      <td>0</td>\n",
              "      <td>1200</td>\n",
              "      <td>GOOD TO FIRM</td>\n",
              "      <td>40-15</td>\n",
              "      <td>485000.0</td>\n",
              "      <td>...</td>\n",
              "      <td>4.0</td>\n",
              "      <td>NaN</td>\n",
              "      <td>12.5</td>\n",
              "      <td>47.0</td>\n",
              "      <td>33.5</td>\n",
              "      <td>NaN</td>\n",
              "      <td>5</td>\n",
              "      <td>23.5</td>\n",
              "      <td>NaN</td>\n",
              "      <td>NaN</td>\n",
              "    </tr>\n",
              "    <tr>\n",
              "      <th>2</th>\n",
              "      <td>2</td>\n",
              "      <td>1997-06-02</td>\n",
              "      <td>ST</td>\n",
              "      <td>3</td>\n",
              "      <td>A</td>\n",
              "      <td>0</td>\n",
              "      <td>1400</td>\n",
              "      <td>GOOD TO FIRM</td>\n",
              "      <td>60-40</td>\n",
              "      <td>625000.0</td>\n",
              "      <td>...</td>\n",
              "      <td>13.0</td>\n",
              "      <td>NaN</td>\n",
              "      <td>23.0</td>\n",
              "      <td>23.0</td>\n",
              "      <td>59.5</td>\n",
              "      <td>NaN</td>\n",
              "      <td>11</td>\n",
              "      <td>70.0</td>\n",
              "      <td>NaN</td>\n",
              "      <td>NaN</td>\n",
              "    </tr>\n",
              "    <tr>\n",
              "      <th>3</th>\n",
              "      <td>3</td>\n",
              "      <td>1997-06-02</td>\n",
              "      <td>ST</td>\n",
              "      <td>4</td>\n",
              "      <td>A</td>\n",
              "      <td>0</td>\n",
              "      <td>1200</td>\n",
              "      <td>GOOD TO FIRM</td>\n",
              "      <td>120-95</td>\n",
              "      <td>1750000.0</td>\n",
              "      <td>...</td>\n",
              "      <td>10.0</td>\n",
              "      <td>NaN</td>\n",
              "      <td>14.0</td>\n",
              "      <td>24.5</td>\n",
              "      <td>16.0</td>\n",
              "      <td>NaN</td>\n",
              "      <td>5</td>\n",
              "      <td>52.0</td>\n",
              "      <td>NaN</td>\n",
              "      <td>NaN</td>\n",
              "    </tr>\n",
              "    <tr>\n",
              "      <th>4</th>\n",
              "      <td>4</td>\n",
              "      <td>1997-06-02</td>\n",
              "      <td>ST</td>\n",
              "      <td>5</td>\n",
              "      <td>A</td>\n",
              "      <td>0</td>\n",
              "      <td>1600</td>\n",
              "      <td>GOOD TO FIRM</td>\n",
              "      <td>60-40</td>\n",
              "      <td>625000.0</td>\n",
              "      <td>...</td>\n",
              "      <td>1.0</td>\n",
              "      <td>NaN</td>\n",
              "      <td>15.5</td>\n",
              "      <td>28.0</td>\n",
              "      <td>17.5</td>\n",
              "      <td>NaN</td>\n",
              "      <td>2</td>\n",
              "      <td>36.5</td>\n",
              "      <td>NaN</td>\n",
              "      <td>NaN</td>\n",
              "    </tr>\n",
              "  </tbody>\n",
              "</table>\n",
              "<p>5 rows × 37 columns</p>\n",
              "</div>\n",
              "      <button class=\"colab-df-convert\" onclick=\"convertToInteractive('df-d720c4a1-ff3d-4ffa-880d-02054f695a0e')\"\n",
              "              title=\"Convert this dataframe to an interactive table.\"\n",
              "              style=\"display:none;\">\n",
              "        \n",
              "  <svg xmlns=\"http://www.w3.org/2000/svg\" height=\"24px\"viewBox=\"0 0 24 24\"\n",
              "       width=\"24px\">\n",
              "    <path d=\"M0 0h24v24H0V0z\" fill=\"none\"/>\n",
              "    <path d=\"M18.56 5.44l.94 2.06.94-2.06 2.06-.94-2.06-.94-.94-2.06-.94 2.06-2.06.94zm-11 1L8.5 8.5l.94-2.06 2.06-.94-2.06-.94L8.5 2.5l-.94 2.06-2.06.94zm10 10l.94 2.06.94-2.06 2.06-.94-2.06-.94-.94-2.06-.94 2.06-2.06.94z\"/><path d=\"M17.41 7.96l-1.37-1.37c-.4-.4-.92-.59-1.43-.59-.52 0-1.04.2-1.43.59L10.3 9.45l-7.72 7.72c-.78.78-.78 2.05 0 2.83L4 21.41c.39.39.9.59 1.41.59.51 0 1.02-.2 1.41-.59l7.78-7.78 2.81-2.81c.8-.78.8-2.07 0-2.86zM5.41 20L4 18.59l7.72-7.72 1.47 1.35L5.41 20z\"/>\n",
              "  </svg>\n",
              "      </button>\n",
              "      \n",
              "  <style>\n",
              "    .colab-df-container {\n",
              "      display:flex;\n",
              "      flex-wrap:wrap;\n",
              "      gap: 12px;\n",
              "    }\n",
              "\n",
              "    .colab-df-convert {\n",
              "      background-color: #E8F0FE;\n",
              "      border: none;\n",
              "      border-radius: 50%;\n",
              "      cursor: pointer;\n",
              "      display: none;\n",
              "      fill: #1967D2;\n",
              "      height: 32px;\n",
              "      padding: 0 0 0 0;\n",
              "      width: 32px;\n",
              "    }\n",
              "\n",
              "    .colab-df-convert:hover {\n",
              "      background-color: #E2EBFA;\n",
              "      box-shadow: 0px 1px 2px rgba(60, 64, 67, 0.3), 0px 1px 3px 1px rgba(60, 64, 67, 0.15);\n",
              "      fill: #174EA6;\n",
              "    }\n",
              "\n",
              "    [theme=dark] .colab-df-convert {\n",
              "      background-color: #3B4455;\n",
              "      fill: #D2E3FC;\n",
              "    }\n",
              "\n",
              "    [theme=dark] .colab-df-convert:hover {\n",
              "      background-color: #434B5C;\n",
              "      box-shadow: 0px 1px 3px 1px rgba(0, 0, 0, 0.15);\n",
              "      filter: drop-shadow(0px 1px 2px rgba(0, 0, 0, 0.3));\n",
              "      fill: #FFFFFF;\n",
              "    }\n",
              "  </style>\n",
              "\n",
              "      <script>\n",
              "        const buttonEl =\n",
              "          document.querySelector('#df-d720c4a1-ff3d-4ffa-880d-02054f695a0e button.colab-df-convert');\n",
              "        buttonEl.style.display =\n",
              "          google.colab.kernel.accessAllowed ? 'block' : 'none';\n",
              "\n",
              "        async function convertToInteractive(key) {\n",
              "          const element = document.querySelector('#df-d720c4a1-ff3d-4ffa-880d-02054f695a0e');\n",
              "          const dataTable =\n",
              "            await google.colab.kernel.invokeFunction('convertToInteractive',\n",
              "                                                     [key], {});\n",
              "          if (!dataTable) return;\n",
              "\n",
              "          const docLinkHtml = 'Like what you see? Visit the ' +\n",
              "            '<a target=\"_blank\" href=https://colab.research.google.com/notebooks/data_table.ipynb>data table notebook</a>'\n",
              "            + ' to learn more about interactive tables.';\n",
              "          element.innerHTML = '';\n",
              "          dataTable['output_type'] = 'display_data';\n",
              "          await google.colab.output.renderOutput(dataTable, element);\n",
              "          const docLink = document.createElement('div');\n",
              "          docLink.innerHTML = docLinkHtml;\n",
              "          element.appendChild(docLink);\n",
              "        }\n",
              "      </script>\n",
              "    </div>\n",
              "  </div>\n",
              "  "
            ]
          },
          "metadata": {},
          "execution_count": 91
        }
      ]
    },
    {
      "cell_type": "code",
      "source": [
        "#Create a dataframe containing the columns we need from the horse_det datafile\n",
        "horse_det = horse[['race_id', 'horse_id', 'won', 'horse_age', 'horse_country', 'horse_type','draw','time1', 'win_odds']]\n",
        "horse_det.head()"
      ],
      "metadata": {
        "colab": {
          "base_uri": "https://localhost:8080/",
          "height": 206
        },
        "id": "e-Z2GjKsD4Ru",
        "outputId": "cb673c12-138f-481f-d718-b88d6a016208"
      },
      "execution_count": null,
      "outputs": [
        {
          "output_type": "execute_result",
          "data": {
            "text/plain": [
              "   race_id  horse_id  won  horse_age horse_country horse_type  draw  time1  \\\n",
              "0        0      3917  0.0          3           AUS    Gelding     7  13.85   \n",
              "1        0      2157  0.0          3            NZ    Gelding    12  14.57   \n",
              "2        0       858  0.0          3            NZ    Gelding     8  13.69   \n",
              "3        0      1853  0.0          3           SAF    Gelding    13  14.09   \n",
              "4        0      2796  0.0          3            GB    Gelding    14  14.77   \n",
              "\n",
              "   win_odds  \n",
              "0       9.7  \n",
              "1      16.0  \n",
              "2       3.5  \n",
              "3      39.0  \n",
              "4      50.0  "
            ],
            "text/html": [
              "\n",
              "  <div id=\"df-c2b3eb65-c33c-480e-84b5-23fa1db65f30\">\n",
              "    <div class=\"colab-df-container\">\n",
              "      <div>\n",
              "<style scoped>\n",
              "    .dataframe tbody tr th:only-of-type {\n",
              "        vertical-align: middle;\n",
              "    }\n",
              "\n",
              "    .dataframe tbody tr th {\n",
              "        vertical-align: top;\n",
              "    }\n",
              "\n",
              "    .dataframe thead th {\n",
              "        text-align: right;\n",
              "    }\n",
              "</style>\n",
              "<table border=\"1\" class=\"dataframe\">\n",
              "  <thead>\n",
              "    <tr style=\"text-align: right;\">\n",
              "      <th></th>\n",
              "      <th>race_id</th>\n",
              "      <th>horse_id</th>\n",
              "      <th>won</th>\n",
              "      <th>horse_age</th>\n",
              "      <th>horse_country</th>\n",
              "      <th>horse_type</th>\n",
              "      <th>draw</th>\n",
              "      <th>time1</th>\n",
              "      <th>win_odds</th>\n",
              "    </tr>\n",
              "  </thead>\n",
              "  <tbody>\n",
              "    <tr>\n",
              "      <th>0</th>\n",
              "      <td>0</td>\n",
              "      <td>3917</td>\n",
              "      <td>0.0</td>\n",
              "      <td>3</td>\n",
              "      <td>AUS</td>\n",
              "      <td>Gelding</td>\n",
              "      <td>7</td>\n",
              "      <td>13.85</td>\n",
              "      <td>9.7</td>\n",
              "    </tr>\n",
              "    <tr>\n",
              "      <th>1</th>\n",
              "      <td>0</td>\n",
              "      <td>2157</td>\n",
              "      <td>0.0</td>\n",
              "      <td>3</td>\n",
              "      <td>NZ</td>\n",
              "      <td>Gelding</td>\n",
              "      <td>12</td>\n",
              "      <td>14.57</td>\n",
              "      <td>16.0</td>\n",
              "    </tr>\n",
              "    <tr>\n",
              "      <th>2</th>\n",
              "      <td>0</td>\n",
              "      <td>858</td>\n",
              "      <td>0.0</td>\n",
              "      <td>3</td>\n",
              "      <td>NZ</td>\n",
              "      <td>Gelding</td>\n",
              "      <td>8</td>\n",
              "      <td>13.69</td>\n",
              "      <td>3.5</td>\n",
              "    </tr>\n",
              "    <tr>\n",
              "      <th>3</th>\n",
              "      <td>0</td>\n",
              "      <td>1853</td>\n",
              "      <td>0.0</td>\n",
              "      <td>3</td>\n",
              "      <td>SAF</td>\n",
              "      <td>Gelding</td>\n",
              "      <td>13</td>\n",
              "      <td>14.09</td>\n",
              "      <td>39.0</td>\n",
              "    </tr>\n",
              "    <tr>\n",
              "      <th>4</th>\n",
              "      <td>0</td>\n",
              "      <td>2796</td>\n",
              "      <td>0.0</td>\n",
              "      <td>3</td>\n",
              "      <td>GB</td>\n",
              "      <td>Gelding</td>\n",
              "      <td>14</td>\n",
              "      <td>14.77</td>\n",
              "      <td>50.0</td>\n",
              "    </tr>\n",
              "  </tbody>\n",
              "</table>\n",
              "</div>\n",
              "      <button class=\"colab-df-convert\" onclick=\"convertToInteractive('df-c2b3eb65-c33c-480e-84b5-23fa1db65f30')\"\n",
              "              title=\"Convert this dataframe to an interactive table.\"\n",
              "              style=\"display:none;\">\n",
              "        \n",
              "  <svg xmlns=\"http://www.w3.org/2000/svg\" height=\"24px\"viewBox=\"0 0 24 24\"\n",
              "       width=\"24px\">\n",
              "    <path d=\"M0 0h24v24H0V0z\" fill=\"none\"/>\n",
              "    <path d=\"M18.56 5.44l.94 2.06.94-2.06 2.06-.94-2.06-.94-.94-2.06-.94 2.06-2.06.94zm-11 1L8.5 8.5l.94-2.06 2.06-.94-2.06-.94L8.5 2.5l-.94 2.06-2.06.94zm10 10l.94 2.06.94-2.06 2.06-.94-2.06-.94-.94-2.06-.94 2.06-2.06.94z\"/><path d=\"M17.41 7.96l-1.37-1.37c-.4-.4-.92-.59-1.43-.59-.52 0-1.04.2-1.43.59L10.3 9.45l-7.72 7.72c-.78.78-.78 2.05 0 2.83L4 21.41c.39.39.9.59 1.41.59.51 0 1.02-.2 1.41-.59l7.78-7.78 2.81-2.81c.8-.78.8-2.07 0-2.86zM5.41 20L4 18.59l7.72-7.72 1.47 1.35L5.41 20z\"/>\n",
              "  </svg>\n",
              "      </button>\n",
              "      \n",
              "  <style>\n",
              "    .colab-df-container {\n",
              "      display:flex;\n",
              "      flex-wrap:wrap;\n",
              "      gap: 12px;\n",
              "    }\n",
              "\n",
              "    .colab-df-convert {\n",
              "      background-color: #E8F0FE;\n",
              "      border: none;\n",
              "      border-radius: 50%;\n",
              "      cursor: pointer;\n",
              "      display: none;\n",
              "      fill: #1967D2;\n",
              "      height: 32px;\n",
              "      padding: 0 0 0 0;\n",
              "      width: 32px;\n",
              "    }\n",
              "\n",
              "    .colab-df-convert:hover {\n",
              "      background-color: #E2EBFA;\n",
              "      box-shadow: 0px 1px 2px rgba(60, 64, 67, 0.3), 0px 1px 3px 1px rgba(60, 64, 67, 0.15);\n",
              "      fill: #174EA6;\n",
              "    }\n",
              "\n",
              "    [theme=dark] .colab-df-convert {\n",
              "      background-color: #3B4455;\n",
              "      fill: #D2E3FC;\n",
              "    }\n",
              "\n",
              "    [theme=dark] .colab-df-convert:hover {\n",
              "      background-color: #434B5C;\n",
              "      box-shadow: 0px 1px 3px 1px rgba(0, 0, 0, 0.15);\n",
              "      filter: drop-shadow(0px 1px 2px rgba(0, 0, 0, 0.3));\n",
              "      fill: #FFFFFF;\n",
              "    }\n",
              "  </style>\n",
              "\n",
              "      <script>\n",
              "        const buttonEl =\n",
              "          document.querySelector('#df-c2b3eb65-c33c-480e-84b5-23fa1db65f30 button.colab-df-convert');\n",
              "        buttonEl.style.display =\n",
              "          google.colab.kernel.accessAllowed ? 'block' : 'none';\n",
              "\n",
              "        async function convertToInteractive(key) {\n",
              "          const element = document.querySelector('#df-c2b3eb65-c33c-480e-84b5-23fa1db65f30');\n",
              "          const dataTable =\n",
              "            await google.colab.kernel.invokeFunction('convertToInteractive',\n",
              "                                                     [key], {});\n",
              "          if (!dataTable) return;\n",
              "\n",
              "          const docLinkHtml = 'Like what you see? Visit the ' +\n",
              "            '<a target=\"_blank\" href=https://colab.research.google.com/notebooks/data_table.ipynb>data table notebook</a>'\n",
              "            + ' to learn more about interactive tables.';\n",
              "          element.innerHTML = '';\n",
              "          dataTable['output_type'] = 'display_data';\n",
              "          await google.colab.output.renderOutput(dataTable, element);\n",
              "          const docLink = document.createElement('div');\n",
              "          docLink.innerHTML = docLinkHtml;\n",
              "          element.appendChild(docLink);\n",
              "        }\n",
              "      </script>\n",
              "    </div>\n",
              "  </div>\n",
              "  "
            ]
          },
          "metadata": {},
          "execution_count": 92
        }
      ]
    },
    {
      "cell_type": "code",
      "source": [
        "#Create a dataframe containing the columns we need from the race_det datafile\n",
        "race_det = race[['race_id', 'venue', 'going', 'distance', 'date']]\n",
        "race_det.head()"
      ],
      "metadata": {
        "colab": {
          "base_uri": "https://localhost:8080/",
          "height": 206
        },
        "id": "ASShY6HMD5C_",
        "outputId": "4a1f6148-d2fb-4bb1-8100-5cdb05517649"
      },
      "execution_count": null,
      "outputs": [
        {
          "output_type": "execute_result",
          "data": {
            "text/plain": [
              "   race_id venue         going  distance        date\n",
              "0        0    ST  GOOD TO FIRM      1400  1997-06-02\n",
              "1        1    ST  GOOD TO FIRM      1200  1997-06-02\n",
              "2        2    ST  GOOD TO FIRM      1400  1997-06-02\n",
              "3        3    ST  GOOD TO FIRM      1200  1997-06-02\n",
              "4        4    ST  GOOD TO FIRM      1600  1997-06-02"
            ],
            "text/html": [
              "\n",
              "  <div id=\"df-6bde133b-6729-4271-9008-893fd9c7e8c2\">\n",
              "    <div class=\"colab-df-container\">\n",
              "      <div>\n",
              "<style scoped>\n",
              "    .dataframe tbody tr th:only-of-type {\n",
              "        vertical-align: middle;\n",
              "    }\n",
              "\n",
              "    .dataframe tbody tr th {\n",
              "        vertical-align: top;\n",
              "    }\n",
              "\n",
              "    .dataframe thead th {\n",
              "        text-align: right;\n",
              "    }\n",
              "</style>\n",
              "<table border=\"1\" class=\"dataframe\">\n",
              "  <thead>\n",
              "    <tr style=\"text-align: right;\">\n",
              "      <th></th>\n",
              "      <th>race_id</th>\n",
              "      <th>venue</th>\n",
              "      <th>going</th>\n",
              "      <th>distance</th>\n",
              "      <th>date</th>\n",
              "    </tr>\n",
              "  </thead>\n",
              "  <tbody>\n",
              "    <tr>\n",
              "      <th>0</th>\n",
              "      <td>0</td>\n",
              "      <td>ST</td>\n",
              "      <td>GOOD TO FIRM</td>\n",
              "      <td>1400</td>\n",
              "      <td>1997-06-02</td>\n",
              "    </tr>\n",
              "    <tr>\n",
              "      <th>1</th>\n",
              "      <td>1</td>\n",
              "      <td>ST</td>\n",
              "      <td>GOOD TO FIRM</td>\n",
              "      <td>1200</td>\n",
              "      <td>1997-06-02</td>\n",
              "    </tr>\n",
              "    <tr>\n",
              "      <th>2</th>\n",
              "      <td>2</td>\n",
              "      <td>ST</td>\n",
              "      <td>GOOD TO FIRM</td>\n",
              "      <td>1400</td>\n",
              "      <td>1997-06-02</td>\n",
              "    </tr>\n",
              "    <tr>\n",
              "      <th>3</th>\n",
              "      <td>3</td>\n",
              "      <td>ST</td>\n",
              "      <td>GOOD TO FIRM</td>\n",
              "      <td>1200</td>\n",
              "      <td>1997-06-02</td>\n",
              "    </tr>\n",
              "    <tr>\n",
              "      <th>4</th>\n",
              "      <td>4</td>\n",
              "      <td>ST</td>\n",
              "      <td>GOOD TO FIRM</td>\n",
              "      <td>1600</td>\n",
              "      <td>1997-06-02</td>\n",
              "    </tr>\n",
              "  </tbody>\n",
              "</table>\n",
              "</div>\n",
              "      <button class=\"colab-df-convert\" onclick=\"convertToInteractive('df-6bde133b-6729-4271-9008-893fd9c7e8c2')\"\n",
              "              title=\"Convert this dataframe to an interactive table.\"\n",
              "              style=\"display:none;\">\n",
              "        \n",
              "  <svg xmlns=\"http://www.w3.org/2000/svg\" height=\"24px\"viewBox=\"0 0 24 24\"\n",
              "       width=\"24px\">\n",
              "    <path d=\"M0 0h24v24H0V0z\" fill=\"none\"/>\n",
              "    <path d=\"M18.56 5.44l.94 2.06.94-2.06 2.06-.94-2.06-.94-.94-2.06-.94 2.06-2.06.94zm-11 1L8.5 8.5l.94-2.06 2.06-.94-2.06-.94L8.5 2.5l-.94 2.06-2.06.94zm10 10l.94 2.06.94-2.06 2.06-.94-2.06-.94-.94-2.06-.94 2.06-2.06.94z\"/><path d=\"M17.41 7.96l-1.37-1.37c-.4-.4-.92-.59-1.43-.59-.52 0-1.04.2-1.43.59L10.3 9.45l-7.72 7.72c-.78.78-.78 2.05 0 2.83L4 21.41c.39.39.9.59 1.41.59.51 0 1.02-.2 1.41-.59l7.78-7.78 2.81-2.81c.8-.78.8-2.07 0-2.86zM5.41 20L4 18.59l7.72-7.72 1.47 1.35L5.41 20z\"/>\n",
              "  </svg>\n",
              "      </button>\n",
              "      \n",
              "  <style>\n",
              "    .colab-df-container {\n",
              "      display:flex;\n",
              "      flex-wrap:wrap;\n",
              "      gap: 12px;\n",
              "    }\n",
              "\n",
              "    .colab-df-convert {\n",
              "      background-color: #E8F0FE;\n",
              "      border: none;\n",
              "      border-radius: 50%;\n",
              "      cursor: pointer;\n",
              "      display: none;\n",
              "      fill: #1967D2;\n",
              "      height: 32px;\n",
              "      padding: 0 0 0 0;\n",
              "      width: 32px;\n",
              "    }\n",
              "\n",
              "    .colab-df-convert:hover {\n",
              "      background-color: #E2EBFA;\n",
              "      box-shadow: 0px 1px 2px rgba(60, 64, 67, 0.3), 0px 1px 3px 1px rgba(60, 64, 67, 0.15);\n",
              "      fill: #174EA6;\n",
              "    }\n",
              "\n",
              "    [theme=dark] .colab-df-convert {\n",
              "      background-color: #3B4455;\n",
              "      fill: #D2E3FC;\n",
              "    }\n",
              "\n",
              "    [theme=dark] .colab-df-convert:hover {\n",
              "      background-color: #434B5C;\n",
              "      box-shadow: 0px 1px 3px 1px rgba(0, 0, 0, 0.15);\n",
              "      filter: drop-shadow(0px 1px 2px rgba(0, 0, 0, 0.3));\n",
              "      fill: #FFFFFF;\n",
              "    }\n",
              "  </style>\n",
              "\n",
              "      <script>\n",
              "        const buttonEl =\n",
              "          document.querySelector('#df-6bde133b-6729-4271-9008-893fd9c7e8c2 button.colab-df-convert');\n",
              "        buttonEl.style.display =\n",
              "          google.colab.kernel.accessAllowed ? 'block' : 'none';\n",
              "\n",
              "        async function convertToInteractive(key) {\n",
              "          const element = document.querySelector('#df-6bde133b-6729-4271-9008-893fd9c7e8c2');\n",
              "          const dataTable =\n",
              "            await google.colab.kernel.invokeFunction('convertToInteractive',\n",
              "                                                     [key], {});\n",
              "          if (!dataTable) return;\n",
              "\n",
              "          const docLinkHtml = 'Like what you see? Visit the ' +\n",
              "            '<a target=\"_blank\" href=https://colab.research.google.com/notebooks/data_table.ipynb>data table notebook</a>'\n",
              "            + ' to learn more about interactive tables.';\n",
              "          element.innerHTML = '';\n",
              "          dataTable['output_type'] = 'display_data';\n",
              "          await google.colab.output.renderOutput(dataTable, element);\n",
              "          const docLink = document.createElement('div');\n",
              "          docLink.innerHTML = docLinkHtml;\n",
              "          element.appendChild(docLink);\n",
              "        }\n",
              "      </script>\n",
              "    </div>\n",
              "  </div>\n",
              "  "
            ]
          },
          "metadata": {},
          "execution_count": 93
        }
      ]
    },
    {
      "cell_type": "code",
      "source": [
        "#Merge the two datasets based on the key race_id\n",
        "form = pd.merge(race_det, horse_det)\n",
        "form.head()"
      ],
      "metadata": {
        "colab": {
          "base_uri": "https://localhost:8080/",
          "height": 206
        },
        "id": "GXWT178PD5Op",
        "outputId": "1f3b1602-e8ca-45c8-a47e-d12bc782e66e"
      },
      "execution_count": null,
      "outputs": [
        {
          "output_type": "execute_result",
          "data": {
            "text/plain": [
              "   race_id venue         going  distance        date  horse_id  won  \\\n",
              "0        0    ST  GOOD TO FIRM      1400  1997-06-02      3917  0.0   \n",
              "1        0    ST  GOOD TO FIRM      1400  1997-06-02      2157  0.0   \n",
              "2        0    ST  GOOD TO FIRM      1400  1997-06-02       858  0.0   \n",
              "3        0    ST  GOOD TO FIRM      1400  1997-06-02      1853  0.0   \n",
              "4        0    ST  GOOD TO FIRM      1400  1997-06-02      2796  0.0   \n",
              "\n",
              "   horse_age horse_country horse_type  draw  time1  win_odds  \n",
              "0          3           AUS    Gelding     7  13.85       9.7  \n",
              "1          3            NZ    Gelding    12  14.57      16.0  \n",
              "2          3            NZ    Gelding     8  13.69       3.5  \n",
              "3          3           SAF    Gelding    13  14.09      39.0  \n",
              "4          3            GB    Gelding    14  14.77      50.0  "
            ],
            "text/html": [
              "\n",
              "  <div id=\"df-3a355e3c-dbff-43dc-8878-5b3e5cbfc946\">\n",
              "    <div class=\"colab-df-container\">\n",
              "      <div>\n",
              "<style scoped>\n",
              "    .dataframe tbody tr th:only-of-type {\n",
              "        vertical-align: middle;\n",
              "    }\n",
              "\n",
              "    .dataframe tbody tr th {\n",
              "        vertical-align: top;\n",
              "    }\n",
              "\n",
              "    .dataframe thead th {\n",
              "        text-align: right;\n",
              "    }\n",
              "</style>\n",
              "<table border=\"1\" class=\"dataframe\">\n",
              "  <thead>\n",
              "    <tr style=\"text-align: right;\">\n",
              "      <th></th>\n",
              "      <th>race_id</th>\n",
              "      <th>venue</th>\n",
              "      <th>going</th>\n",
              "      <th>distance</th>\n",
              "      <th>date</th>\n",
              "      <th>horse_id</th>\n",
              "      <th>won</th>\n",
              "      <th>horse_age</th>\n",
              "      <th>horse_country</th>\n",
              "      <th>horse_type</th>\n",
              "      <th>draw</th>\n",
              "      <th>time1</th>\n",
              "      <th>win_odds</th>\n",
              "    </tr>\n",
              "  </thead>\n",
              "  <tbody>\n",
              "    <tr>\n",
              "      <th>0</th>\n",
              "      <td>0</td>\n",
              "      <td>ST</td>\n",
              "      <td>GOOD TO FIRM</td>\n",
              "      <td>1400</td>\n",
              "      <td>1997-06-02</td>\n",
              "      <td>3917</td>\n",
              "      <td>0.0</td>\n",
              "      <td>3</td>\n",
              "      <td>AUS</td>\n",
              "      <td>Gelding</td>\n",
              "      <td>7</td>\n",
              "      <td>13.85</td>\n",
              "      <td>9.7</td>\n",
              "    </tr>\n",
              "    <tr>\n",
              "      <th>1</th>\n",
              "      <td>0</td>\n",
              "      <td>ST</td>\n",
              "      <td>GOOD TO FIRM</td>\n",
              "      <td>1400</td>\n",
              "      <td>1997-06-02</td>\n",
              "      <td>2157</td>\n",
              "      <td>0.0</td>\n",
              "      <td>3</td>\n",
              "      <td>NZ</td>\n",
              "      <td>Gelding</td>\n",
              "      <td>12</td>\n",
              "      <td>14.57</td>\n",
              "      <td>16.0</td>\n",
              "    </tr>\n",
              "    <tr>\n",
              "      <th>2</th>\n",
              "      <td>0</td>\n",
              "      <td>ST</td>\n",
              "      <td>GOOD TO FIRM</td>\n",
              "      <td>1400</td>\n",
              "      <td>1997-06-02</td>\n",
              "      <td>858</td>\n",
              "      <td>0.0</td>\n",
              "      <td>3</td>\n",
              "      <td>NZ</td>\n",
              "      <td>Gelding</td>\n",
              "      <td>8</td>\n",
              "      <td>13.69</td>\n",
              "      <td>3.5</td>\n",
              "    </tr>\n",
              "    <tr>\n",
              "      <th>3</th>\n",
              "      <td>0</td>\n",
              "      <td>ST</td>\n",
              "      <td>GOOD TO FIRM</td>\n",
              "      <td>1400</td>\n",
              "      <td>1997-06-02</td>\n",
              "      <td>1853</td>\n",
              "      <td>0.0</td>\n",
              "      <td>3</td>\n",
              "      <td>SAF</td>\n",
              "      <td>Gelding</td>\n",
              "      <td>13</td>\n",
              "      <td>14.09</td>\n",
              "      <td>39.0</td>\n",
              "    </tr>\n",
              "    <tr>\n",
              "      <th>4</th>\n",
              "      <td>0</td>\n",
              "      <td>ST</td>\n",
              "      <td>GOOD TO FIRM</td>\n",
              "      <td>1400</td>\n",
              "      <td>1997-06-02</td>\n",
              "      <td>2796</td>\n",
              "      <td>0.0</td>\n",
              "      <td>3</td>\n",
              "      <td>GB</td>\n",
              "      <td>Gelding</td>\n",
              "      <td>14</td>\n",
              "      <td>14.77</td>\n",
              "      <td>50.0</td>\n",
              "    </tr>\n",
              "  </tbody>\n",
              "</table>\n",
              "</div>\n",
              "      <button class=\"colab-df-convert\" onclick=\"convertToInteractive('df-3a355e3c-dbff-43dc-8878-5b3e5cbfc946')\"\n",
              "              title=\"Convert this dataframe to an interactive table.\"\n",
              "              style=\"display:none;\">\n",
              "        \n",
              "  <svg xmlns=\"http://www.w3.org/2000/svg\" height=\"24px\"viewBox=\"0 0 24 24\"\n",
              "       width=\"24px\">\n",
              "    <path d=\"M0 0h24v24H0V0z\" fill=\"none\"/>\n",
              "    <path d=\"M18.56 5.44l.94 2.06.94-2.06 2.06-.94-2.06-.94-.94-2.06-.94 2.06-2.06.94zm-11 1L8.5 8.5l.94-2.06 2.06-.94-2.06-.94L8.5 2.5l-.94 2.06-2.06.94zm10 10l.94 2.06.94-2.06 2.06-.94-2.06-.94-.94-2.06-.94 2.06-2.06.94z\"/><path d=\"M17.41 7.96l-1.37-1.37c-.4-.4-.92-.59-1.43-.59-.52 0-1.04.2-1.43.59L10.3 9.45l-7.72 7.72c-.78.78-.78 2.05 0 2.83L4 21.41c.39.39.9.59 1.41.59.51 0 1.02-.2 1.41-.59l7.78-7.78 2.81-2.81c.8-.78.8-2.07 0-2.86zM5.41 20L4 18.59l7.72-7.72 1.47 1.35L5.41 20z\"/>\n",
              "  </svg>\n",
              "      </button>\n",
              "      \n",
              "  <style>\n",
              "    .colab-df-container {\n",
              "      display:flex;\n",
              "      flex-wrap:wrap;\n",
              "      gap: 12px;\n",
              "    }\n",
              "\n",
              "    .colab-df-convert {\n",
              "      background-color: #E8F0FE;\n",
              "      border: none;\n",
              "      border-radius: 50%;\n",
              "      cursor: pointer;\n",
              "      display: none;\n",
              "      fill: #1967D2;\n",
              "      height: 32px;\n",
              "      padding: 0 0 0 0;\n",
              "      width: 32px;\n",
              "    }\n",
              "\n",
              "    .colab-df-convert:hover {\n",
              "      background-color: #E2EBFA;\n",
              "      box-shadow: 0px 1px 2px rgba(60, 64, 67, 0.3), 0px 1px 3px 1px rgba(60, 64, 67, 0.15);\n",
              "      fill: #174EA6;\n",
              "    }\n",
              "\n",
              "    [theme=dark] .colab-df-convert {\n",
              "      background-color: #3B4455;\n",
              "      fill: #D2E3FC;\n",
              "    }\n",
              "\n",
              "    [theme=dark] .colab-df-convert:hover {\n",
              "      background-color: #434B5C;\n",
              "      box-shadow: 0px 1px 3px 1px rgba(0, 0, 0, 0.15);\n",
              "      filter: drop-shadow(0px 1px 2px rgba(0, 0, 0, 0.3));\n",
              "      fill: #FFFFFF;\n",
              "    }\n",
              "  </style>\n",
              "\n",
              "      <script>\n",
              "        const buttonEl =\n",
              "          document.querySelector('#df-3a355e3c-dbff-43dc-8878-5b3e5cbfc946 button.colab-df-convert');\n",
              "        buttonEl.style.display =\n",
              "          google.colab.kernel.accessAllowed ? 'block' : 'none';\n",
              "\n",
              "        async function convertToInteractive(key) {\n",
              "          const element = document.querySelector('#df-3a355e3c-dbff-43dc-8878-5b3e5cbfc946');\n",
              "          const dataTable =\n",
              "            await google.colab.kernel.invokeFunction('convertToInteractive',\n",
              "                                                     [key], {});\n",
              "          if (!dataTable) return;\n",
              "\n",
              "          const docLinkHtml = 'Like what you see? Visit the ' +\n",
              "            '<a target=\"_blank\" href=https://colab.research.google.com/notebooks/data_table.ipynb>data table notebook</a>'\n",
              "            + ' to learn more about interactive tables.';\n",
              "          element.innerHTML = '';\n",
              "          dataTable['output_type'] = 'display_data';\n",
              "          await google.colab.output.renderOutput(dataTable, element);\n",
              "          const docLink = document.createElement('div');\n",
              "          docLink.innerHTML = docLinkHtml;\n",
              "          element.appendChild(docLink);\n",
              "        }\n",
              "      </script>\n",
              "    </div>\n",
              "  </div>\n",
              "  "
            ]
          },
          "metadata": {},
          "execution_count": 94
        }
      ]
    },
    {
      "cell_type": "code",
      "source": [
        "#Review the size of the merged dataset\n",
        "form.shape"
      ],
      "metadata": {
        "colab": {
          "base_uri": "https://localhost:8080/"
        },
        "id": "Tn_9WcAiD84u",
        "outputId": "058a620d-94e8-417f-bbac-3d994129327f"
      },
      "execution_count": null,
      "outputs": [
        {
          "output_type": "execute_result",
          "data": {
            "text/plain": [
              "(79447, 13)"
            ]
          },
          "metadata": {},
          "execution_count": 95
        }
      ]
    },
    {
      "cell_type": "code",
      "source": [
        "#Review the missingvalues\n",
        "form.isnull().any()"
      ],
      "metadata": {
        "colab": {
          "base_uri": "https://localhost:8080/"
        },
        "id": "K3pvtfCuEXMz",
        "outputId": "875f6ed2-1541-4f5e-fb75-76ed202c0e1c"
      },
      "execution_count": null,
      "outputs": [
        {
          "output_type": "execute_result",
          "data": {
            "text/plain": [
              "race_id          False\n",
              "venue            False\n",
              "going            False\n",
              "distance         False\n",
              "date             False\n",
              "horse_id         False\n",
              "won              False\n",
              "horse_age        False\n",
              "horse_country     True\n",
              "horse_type        True\n",
              "draw             False\n",
              "time1            False\n",
              "win_odds         False\n",
              "dtype: bool"
            ]
          },
          "metadata": {},
          "execution_count": 96
        }
      ]
    },
    {
      "cell_type": "code",
      "source": [
        "#Drop the missing values\n",
        "form = form.dropna()"
      ],
      "metadata": {
        "id": "7MozAopSEXuE"
      },
      "execution_count": null,
      "outputs": []
    },
    {
      "cell_type": "code",
      "source": [
        "#Review the size of the dataset\n",
        "form.shape"
      ],
      "metadata": {
        "colab": {
          "base_uri": "https://localhost:8080/"
        },
        "id": "3GM-6jUGEZx0",
        "outputId": "37d76687-72d7-4efd-e79f-54077d8a2e5c"
      },
      "execution_count": null,
      "outputs": [
        {
          "output_type": "execute_result",
          "data": {
            "text/plain": [
              "(79445, 13)"
            ]
          },
          "metadata": {},
          "execution_count": 98
        }
      ]
    },
    {
      "cell_type": "code",
      "source": [
        "#count the unique values for horses and races\n",
        "count_horse = form.horse_id.nunique()\n",
        "count_race = form.race_id.nunique()\n",
        "\n",
        "print('Number of horses:', count_horse,'\\nNumber of races:', count_race)\n"
      ],
      "metadata": {
        "colab": {
          "base_uri": "https://localhost:8080/"
        },
        "id": "FZy6wMAjEftd",
        "outputId": "63255c7e-4e41-45fd-d870-681607ed8aab"
      },
      "execution_count": null,
      "outputs": [
        {
          "output_type": "stream",
          "name": "stdout",
          "text": [
            "Number of horses: 4404 \n",
            "Number of races: 6348\n"
          ]
        }
      ]
    },
    {
      "cell_type": "code",
      "source": [
        "#Count the grouped country values\n",
        "form.horse_country.value_counts()"
      ],
      "metadata": {
        "colab": {
          "base_uri": "https://localhost:8080/"
        },
        "id": "kytUgLFvEhOT",
        "outputId": "8d931ea9-75c1-4a2d-bb7f-5b0bc8b0f130"
      },
      "execution_count": null,
      "outputs": [
        {
          "output_type": "execute_result",
          "data": {
            "text/plain": [
              "AUS    29906\n",
              "NZ     27497\n",
              "IRE    10473\n",
              "GB      6329\n",
              "USA     2499\n",
              "FR      1257\n",
              "SAF      685\n",
              "GER      357\n",
              "ARG      127\n",
              "JPN       93\n",
              "CAN       91\n",
              "ITY       66\n",
              "GR        33\n",
              "BRZ       18\n",
              "ZIM       12\n",
              "SPA        2\n",
              "Name: horse_country, dtype: int64"
            ]
          },
          "metadata": {},
          "execution_count": 100
        }
      ]
    },
    {
      "cell_type": "code",
      "source": [
        "#Group the countries with <10% together in an other category\n",
        "horse_cntry_cnt = form.horse_country.value_counts()\n",
        "horse_cntry_clc = (horse_cntry_cnt/horse_cntry_cnt.sum()*100).lt(1)\n",
        "form['horse_country'] = np.where(form['horse_country'].isin(horse_cntry_cnt[horse_cntry_clc].index),'Other',form['horse_country'])"
      ],
      "metadata": {
        "colab": {
          "base_uri": "https://localhost:8080/"
        },
        "id": "A_NfOIpmEjJQ",
        "outputId": "616708e5-2750-41ed-86c2-460e39f13c22"
      },
      "execution_count": null,
      "outputs": [
        {
          "output_type": "stream",
          "name": "stderr",
          "text": [
            "<ipython-input-101-407177f873a6>:4: SettingWithCopyWarning: \n",
            "A value is trying to be set on a copy of a slice from a DataFrame.\n",
            "Try using .loc[row_indexer,col_indexer] = value instead\n",
            "\n",
            "See the caveats in the documentation: https://pandas.pydata.org/pandas-docs/stable/user_guide/indexing.html#returning-a-view-versus-a-copy\n",
            "  form['horse_country'] = np.where(form['horse_country'].isin(horse_cntry_cnt[horse_cntry_clc].index),'Other',form['horse_country'])\n"
          ]
        }
      ]
    },
    {
      "cell_type": "code",
      "source": [
        "form.horse_country.value_counts()"
      ],
      "metadata": {
        "colab": {
          "base_uri": "https://localhost:8080/"
        },
        "id": "xqp6hHpzEkNk",
        "outputId": "b7b99e90-c661-4a75-fbd7-ef82c5eb92e9"
      },
      "execution_count": null,
      "outputs": [
        {
          "output_type": "execute_result",
          "data": {
            "text/plain": [
              "AUS      29906\n",
              "NZ       27497\n",
              "IRE      10473\n",
              "GB        6329\n",
              "USA       2499\n",
              "Other     1484\n",
              "FR        1257\n",
              "Name: horse_country, dtype: int64"
            ]
          },
          "metadata": {},
          "execution_count": 102
        }
      ]
    },
    {
      "cell_type": "code",
      "source": [
        "form.going.value_counts()"
      ],
      "metadata": {
        "colab": {
          "base_uri": "https://localhost:8080/"
        },
        "id": "uW10p4_8Elcj",
        "outputId": "bbadf4f8-041f-4ce7-a020-aa851d50b7b9"
      },
      "execution_count": null,
      "outputs": [
        {
          "output_type": "execute_result",
          "data": {
            "text/plain": [
              "GOOD                51388\n",
              "GOOD TO FIRM        20409\n",
              "GOOD TO YIELDING     4131\n",
              "YIELDING             1082\n",
              "FAST                  878\n",
              "WET SLOW              771\n",
              "WET FAST              247\n",
              "SLOW                  187\n",
              "YIELDING TO SOFT      177\n",
              "SOFT                  175\n",
              "Name: going, dtype: int64"
            ]
          },
          "metadata": {},
          "execution_count": 103
        }
      ]
    },
    {
      "cell_type": "code",
      "source": [
        "#Create a map for the data from mixed track condition standards to the Australian convention\n",
        "\n",
        "condition_map = {\n",
        "    'GOOD TO FIRM': 'GOOD', 'GOOD': 'GOOD',\n",
        "    'FAST': 'GOOD', 'GOOD TO YIELDING': 'SOFT',\n",
        "    'YIELDING': 'SOFT', 'YIELDING TO SOFT': 'SOFT',\n",
        "    'SOFT': 'SOFT', 'WET SLOW': 'HEAVY', 'WET FAST': 'HEAVY', 'SLOW': 'HEAVY'\n",
        "}\n",
        "#apply the mapping to the data set\n",
        "form['track_condition']=form.going.map(condition_map).fillna('Other')"
      ],
      "metadata": {
        "id": "iy8jUx3dEnVZ"
      },
      "execution_count": null,
      "outputs": []
    },
    {
      "cell_type": "code",
      "source": [
        "form.track_condition.value_counts()"
      ],
      "metadata": {
        "colab": {
          "base_uri": "https://localhost:8080/"
        },
        "id": "WdyAyxNVEzWb",
        "outputId": "6993b3c5-693c-454a-c384-5c478350db61"
      },
      "execution_count": null,
      "outputs": [
        {
          "output_type": "execute_result",
          "data": {
            "text/plain": [
              "GOOD     72675\n",
              "SOFT      5565\n",
              "HEAVY     1205\n",
              "Name: track_condition, dtype: int64"
            ]
          },
          "metadata": {},
          "execution_count": 105
        }
      ]
    },
    {
      "cell_type": "code",
      "source": [
        "#review the distribution of distances\n",
        "form.distance.value_counts()"
      ],
      "metadata": {
        "colab": {
          "base_uri": "https://localhost:8080/"
        },
        "id": "kaM-RtN4E1dv",
        "outputId": "b4a20c4b-8739-44fd-e54b-4bdaba448c31"
      },
      "execution_count": null,
      "outputs": [
        {
          "output_type": "execute_result",
          "data": {
            "text/plain": [
              "1200    24696\n",
              "1400    14565\n",
              "1650    13253\n",
              "1000     8523\n",
              "1600     8329\n",
              "1800     7320\n",
              "2000     1463\n",
              "2200     1034\n",
              "2400      262\n",
              "Name: distance, dtype: int64"
            ]
          },
          "metadata": {},
          "execution_count": 106
        }
      ]
    },
    {
      "cell_type": "code",
      "source": [
        "#review the distribution of venues\n",
        "form.venue.value_counts()"
      ],
      "metadata": {
        "colab": {
          "base_uri": "https://localhost:8080/"
        },
        "id": "wXpJwq-FE4TK",
        "outputId": "0da77b8a-c3df-4194-91de-30d443851330"
      },
      "execution_count": null,
      "outputs": [
        {
          "output_type": "execute_result",
          "data": {
            "text/plain": [
              "ST    51946\n",
              "HV    27499\n",
              "Name: venue, dtype: int64"
            ]
          },
          "metadata": {},
          "execution_count": 107
        }
      ]
    },
    {
      "cell_type": "code",
      "source": [
        "#review the distribution of ages\n",
        "form.horse_age.value_counts()"
      ],
      "metadata": {
        "colab": {
          "base_uri": "https://localhost:8080/"
        },
        "id": "mbcuqOVYE8i-",
        "outputId": "1b1f38f7-d9ae-4f10-b0e7-0b5d59462b64"
      },
      "execution_count": null,
      "outputs": [
        {
          "output_type": "execute_result",
          "data": {
            "text/plain": [
              "3     61210\n",
              "4      8007\n",
              "5      4775\n",
              "6      2244\n",
              "2      2098\n",
              "7       839\n",
              "8       225\n",
              "9        41\n",
              "10        6\n",
              "Name: horse_age, dtype: int64"
            ]
          },
          "metadata": {},
          "execution_count": 108
        }
      ]
    },
    {
      "cell_type": "code",
      "source": [
        "#Remove horses aged 9+ from the dataset\n",
        "form = form[(form.horse_age != 9) & (form.horse_age != 10)]"
      ],
      "metadata": {
        "id": "p60ifJuIE9wA"
      },
      "execution_count": null,
      "outputs": []
    },
    {
      "cell_type": "code",
      "source": [
        "form.horse_age.value_counts()"
      ],
      "metadata": {
        "colab": {
          "base_uri": "https://localhost:8080/"
        },
        "id": "U9QR2q4AE-yR",
        "outputId": "2ac8e293-fd7c-4b13-ca43-02fc3b5dc882"
      },
      "execution_count": null,
      "outputs": [
        {
          "output_type": "execute_result",
          "data": {
            "text/plain": [
              "3    61210\n",
              "4     8007\n",
              "5     4775\n",
              "6     2244\n",
              "2     2098\n",
              "7      839\n",
              "8      225\n",
              "Name: horse_age, dtype: int64"
            ]
          },
          "metadata": {},
          "execution_count": 110
        }
      ]
    },
    {
      "cell_type": "code",
      "source": [
        "#review the distribution of barrier draws\n",
        "form.draw.value_counts()"
      ],
      "metadata": {
        "colab": {
          "base_uri": "https://localhost:8080/"
        },
        "id": "VwlR5UR2FAAr",
        "outputId": "a251c7a8-b62a-4382-9a16-2ca896146297"
      },
      "execution_count": null,
      "outputs": [
        {
          "output_type": "execute_result",
          "data": {
            "text/plain": [
              "4     6310\n",
              "5     6309\n",
              "2     6307\n",
              "3     6304\n",
              "1     6304\n",
              "6     6293\n",
              "7     6277\n",
              "8     6264\n",
              "9     6192\n",
              "10    6091\n",
              "11    5906\n",
              "12    5538\n",
              "13    2778\n",
              "14    2524\n",
              "15       1\n",
              "Name: draw, dtype: int64"
            ]
          },
          "metadata": {},
          "execution_count": 111
        }
      ]
    },
    {
      "cell_type": "markdown",
      "source": [
        "There is only a single race using barrier 15 so i will remove that row."
      ],
      "metadata": {
        "id": "ARGYDcJ4FBtc"
      }
    },
    {
      "cell_type": "code",
      "source": [
        "#remove barrier 15 from the dataset\n",
        "form = form[(form.draw != 15)]"
      ],
      "metadata": {
        "id": "5Z5ltmwJFDzZ"
      },
      "execution_count": null,
      "outputs": []
    },
    {
      "cell_type": "markdown",
      "source": [
        "The dataset covers around 8 years of racing data"
      ],
      "metadata": {
        "id": "WbLD2B0gFF_r"
      }
    },
    {
      "cell_type": "code",
      "source": [
        "#review the period the dataset covers\n",
        "start_time = min(form.date)\n",
        "end_time = max(form.date)\n",
        "print(\"start date:\",start_time,\"\\nend date\", end_time)"
      ],
      "metadata": {
        "colab": {
          "base_uri": "https://localhost:8080/"
        },
        "id": "Ay5IXCIHFFcM",
        "outputId": "0485f738-f263-458a-b8de-973199c35915"
      },
      "execution_count": null,
      "outputs": [
        {
          "output_type": "stream",
          "name": "stdout",
          "text": [
            "start date: 1997-06-02 \n",
            "end date 2005-08-28\n"
          ]
        }
      ]
    },
    {
      "cell_type": "markdown",
      "source": [
        "## Analysis\n"
      ],
      "metadata": {
        "id": "Xd9HfvAZFLvg"
      }
    },
    {
      "cell_type": "markdown",
      "source": [
        "Quick check of horse winrates overall and against a few characteristics"
      ],
      "metadata": {
        "id": "Ft9vWVY-FQwy"
      }
    },
    {
      "cell_type": "markdown",
      "source": [
        "**Overall**"
      ],
      "metadata": {
        "id": "MGps5UKZFxCn"
      }
    },
    {
      "cell_type": "code",
      "source": [
        "#Group horse_id and won and then rename the columns broken in the indexing\n",
        "winloss = form.groupby(['horse_id', 'won']).size().unstack().reset_index()\n",
        "winloss = winloss.rename(columns={0.0: 'lose', 1.0: 'win'})\n",
        "\n",
        "#Calculate and print the average winrate\n",
        "winloss['winrate'] = winloss.win/(winloss.lose+winloss.win)\n",
        "average = round(winloss['winrate'].mean()*100,2)\n",
        "print ('The average winrate of all horses is:', average,'%')"
      ],
      "metadata": {
        "colab": {
          "base_uri": "https://localhost:8080/"
        },
        "id": "M4tzaTAsFUNf",
        "outputId": "d298545f-153d-421c-85cf-ca9e170b4c5a"
      },
      "execution_count": null,
      "outputs": [
        {
          "output_type": "stream",
          "name": "stdout",
          "text": [
            "The average winrate of all horses is: 12.22 %\n"
          ]
        }
      ]
    },
    {
      "cell_type": "markdown",
      "source": [
        "**Horse type**"
      ],
      "metadata": {
        "id": "I5YudK3EFz92"
      }
    },
    {
      "cell_type": "code",
      "source": [
        "#Group by horse type and winrate and then plot the resulting bar graph\n",
        "winrateage = form.groupby(['horse_type'])['won'].mean()\n",
        "\n",
        "winrateage.plot.barh()"
      ],
      "metadata": {
        "colab": {
          "base_uri": "https://localhost:8080/",
          "height": 447
        },
        "id": "6Q3l-bxVF165",
        "outputId": "97ee0ac9-ab72-402d-9e8d-682215d05578"
      },
      "execution_count": null,
      "outputs": [
        {
          "output_type": "execute_result",
          "data": {
            "text/plain": [
              "<Axes: ylabel='horse_type'>"
            ]
          },
          "metadata": {},
          "execution_count": 115
        },
        {
          "output_type": "display_data",
          "data": {
            "text/plain": [
              "<Figure size 640x480 with 1 Axes>"
            ],
            "image/png": "[encoded data removed]"
          },
          "metadata": {}
        }
      ]
    },
    {
      "cell_type": "markdown",
      "source": [
        "**Country**"
      ],
      "metadata": {
        "id": "KwOfDIslF6_C"
      }
    },
    {
      "cell_type": "code",
      "source": [
        "#Group by horse_country type and winrate and then plot the resulting bar graph\n",
        "winratecntry = form.groupby(['horse_country'])['won'].mean()\n",
        "\n",
        "winratecntry\n",
        "winratecntry.plot.barh()"
      ],
      "metadata": {
        "colab": {
          "base_uri": "https://localhost:8080/",
          "height": 447
        },
        "id": "et_T_J4rF-JH",
        "outputId": "203731b4-1b5a-4e8a-a1ab-3900607fdf1a"
      },
      "execution_count": null,
      "outputs": [
        {
          "output_type": "execute_result",
          "data": {
            "text/plain": [
              "<Axes: ylabel='horse_country'>"
            ]
          },
          "metadata": {},
          "execution_count": 116
        },
        {
          "output_type": "display_data",
          "data": {
            "text/plain": [
              "<Figure size 640x480 with 1 Axes>"
            ],
            "image/png": "[encoded data removed]"
          },
          "metadata": {}
        }
      ]
    },
    {
      "cell_type": "markdown",
      "source": [
        "### 1. Starting odds as a measure of the horses ability"
      ],
      "metadata": {
        "id": "y3OAjz3CGov3"
      }
    },
    {
      "cell_type": "markdown",
      "source": [
        "**The Favourite**"
      ],
      "metadata": {
        "id": "7o562idBG1NB"
      }
    },
    {
      "cell_type": "code",
      "source": [
        "#Group by winodds and race id\n",
        "best_win = form.groupby('race_id')['win_odds']\n",
        "\n",
        "#create 2 columns and fill dependant on min odds and max odds horse in race\n",
        "minmaxodds = form.assign(min=best_win.transform(min), max=best_win.transform(max))\n",
        "#find the lowest horse in each race and check if they won\n",
        "minmaxodds['ismin'] = ((minmaxodds['min'] == minmaxodds['win_odds']) & minmaxodds['won'].ge(1))*1\n",
        "#Calculate the mean and print\n",
        "isminwin = round(minmaxodds['ismin'].sum()/minmaxodds['race_id'].nunique(),3)*100\n",
        "print ('The winrate of the lowest odds horse is:', isminwin,'%')"
      ],
      "metadata": {
        "colab": {
          "base_uri": "https://localhost:8080/"
        },
        "id": "ijpItZtZGydt",
        "outputId": "1703114b-b3d8-4944-c01e-8300bd6d671f"
      },
      "execution_count": null,
      "outputs": [
        {
          "output_type": "stream",
          "name": "stdout",
          "text": [
            "The winrate of the lowest odds horse is: 30.3 %\n"
          ]
        }
      ]
    },
    {
      "cell_type": "markdown",
      "source": [
        "**The Outsider**"
      ],
      "metadata": {
        "id": "xtUZXNKvG52h"
      }
    },
    {
      "cell_type": "code",
      "source": [
        "#find the highest horse in each race and check if they won\n",
        "minmaxodds['ismax'] = ((minmaxodds['max'] == minmaxodds['win_odds']) & minmaxodds['won'].ge(1))*1\n",
        "\n",
        "#Calculate the mean and print\n",
        "ismaxwin = round(minmaxodds['ismax'].sum()/minmaxodds['race_id'].nunique(),3)*100\n",
        "print ('The winrate of the highest odds horse is:', ismaxwin,'%')"
      ],
      "metadata": {
        "colab": {
          "base_uri": "https://localhost:8080/"
        },
        "id": "Mh9jr9bRG983",
        "outputId": "5ad233bc-353e-4ba3-be3e-3fe6856bf271"
      },
      "execution_count": null,
      "outputs": [
        {
          "output_type": "stream",
          "name": "stdout",
          "text": [
            "The winrate of the highest odds horse is: 1.0 %\n"
          ]
        }
      ]
    },
    {
      "cell_type": "code",
      "source": [
        "# Group by race id\n",
        "mean_check = minmaxodds.groupby('race_id')\n",
        "#Calculate mean odds and print\n",
        "mean_fav = mean_check['min'].mean()\n",
        "mean_rough = mean_check['max'].mean()\n",
        "mean_rough.mean()\n",
        "mean_fav.mean()\n",
        "print ('The average odds of the favouite in each race', '$',round(mean_fav.mean(), 3),\n",
        "'\\n The average odds of the roughest horse in each race','$',round(mean_rough.mean(),3))"
      ],
      "metadata": {
        "colab": {
          "base_uri": "https://localhost:8080/"
        },
        "id": "ds7298lbHCpx",
        "outputId": "86e2678f-05cf-4e63-a5ec-a6d5e16c2ba4"
      },
      "execution_count": null,
      "outputs": [
        {
          "output_type": "stream",
          "name": "stdout",
          "text": [
            "The average odds of the favouite in each race $ 3.093 \n",
            " The average odds of the roughest horse in each race $ 83.92\n"
          ]
        }
      ]
    },
    {
      "cell_type": "markdown",
      "source": [
        "### 2. The fastest jumper / early leader"
      ],
      "metadata": {
        "id": "HgWSGjnDHiWi"
      }
    },
    {
      "cell_type": "markdown",
      "source": [
        "**Fastest early sectionals**"
      ],
      "metadata": {
        "id": "AHNIyFLSH1A9"
      }
    },
    {
      "cell_type": "code",
      "source": [
        "#Group by time1(first sectional) and race id\n",
        "jump_speed = form.groupby('race_id')['time1']\n",
        "#create 2 columns and fill dependant on min time1 and time1 horse in race\n",
        "minmaxjump = form.assign(min=jump_speed.transform(min), max=jump_speed.transform(max))\n",
        "#find the fastest jumping horse in each race and check if they won\n",
        "minmaxjump['ismin'] = ((minmaxjump['min'] == minmaxjump['time1']) & minmaxjump['won'].ge(1))*1\n",
        "\n",
        "#calculate the mean winrate and print\n",
        "jump_fast = (minmaxjump['ismin'].sum()/minmaxjump['race_id'].nunique())*100\n",
        "print ('The winrate of the fastest horse out of the gates is:', round(jump_fast, 2),'%')"
      ],
      "metadata": {
        "colab": {
          "base_uri": "https://localhost:8080/"
        },
        "id": "ZG4sU2sJHzkm",
        "outputId": "ab434a26-fe9d-4bae-aebc-7b24a4496129"
      },
      "execution_count": null,
      "outputs": [
        {
          "output_type": "stream",
          "name": "stdout",
          "text": [
            "The winrate of the fastest horse out of the gates is: 17.12 %\n"
          ]
        }
      ]
    },
    {
      "cell_type": "markdown",
      "source": [
        "**Slowest early sectionals**"
      ],
      "metadata": {
        "id": "hNNpoZLjH8nH"
      }
    },
    {
      "cell_type": "code",
      "source": [
        "#find the slowest jumping horse in each race and check if they won\n",
        "minmaxjump['ismax'] = ((minmaxjump['max'] == minmaxjump['time1']) & minmaxjump['won'].ge(1))*1\n",
        "\n",
        "#calculate the mean winrate and print\n",
        "jump_slow = (minmaxjump['ismax'].sum()/minmaxjump['race_id'].nunique())*100\n",
        "print ('The winrate of the slowest horse out of the gates is:', round(jump_slow,2),'%')"
      ],
      "metadata": {
        "colab": {
          "base_uri": "https://localhost:8080/"
        },
        "id": "KWILX3JoIDR8",
        "outputId": "61c5a6ca-7428-4b3c-e3af-d4996bc87fba"
      },
      "execution_count": null,
      "outputs": [
        {
          "output_type": "stream",
          "name": "stdout",
          "text": [
            "The winrate of the slowest horse out of the gates is: 3.56 %\n"
          ]
        }
      ]
    },
    {
      "cell_type": "markdown",
      "source": [
        "### 3. Barriers"
      ],
      "metadata": {
        "id": "LE6RkM5vJDIg"
      }
    },
    {
      "cell_type": "markdown",
      "source": [
        "**Taking a look at the overall winrate for each barrier**"
      ],
      "metadata": {
        "id": "K3L6zm4zJQCl"
      }
    },
    {
      "cell_type": "code",
      "source": [
        "#Group by draw and mean winrate\n",
        "barrierwin = (form.groupby([ 'draw'])['won'].mean())*100\n",
        "\n",
        "#create horizintal bar plot\n",
        "barrierwin.plot(\n",
        "    kind = 'barh',\n",
        "    figsize=[12,8],\n",
        "    title = \"HK Racing Barrier winrate %\",\n",
        "    color = 'green'\n",
        ")"
      ],
      "metadata": {
        "colab": {
          "base_uri": "https://localhost:8080/",
          "height": 716
        },
        "id": "Sk4TGBZzJLO3",
        "outputId": "4439cba5-1168-4c1b-9e11-a1cd81417925"
      },
      "execution_count": null,
      "outputs": [
        {
          "output_type": "execute_result",
          "data": {
            "text/plain": [
              "<Axes: title={'center': 'HK Racing Barrier winrate %'}, ylabel='draw'>"
            ]
          },
          "metadata": {},
          "execution_count": 126
        },
        {
          "output_type": "display_data",
          "data": {
            "text/plain": [
              "<Figure size 1200x800 with 1 Axes>"
            ],
            "image/png": "[encoded data removed]"
          },
          "metadata": {}
        }
      ]
    },
    {
      "cell_type": "markdown",
      "source": [
        "**Breakdown by track**"
      ],
      "metadata": {
        "id": "paPJ3rwGJU3-"
      }
    },
    {
      "cell_type": "markdown",
      "source": [
        "*Note i have removed barriers 13 and 14 from the visual as they are not used at the Happy Valley race track"
      ],
      "metadata": {
        "id": "x2797mooJZmj"
      }
    },
    {
      "cell_type": "code",
      "source": [
        "#Filter by Sha tin\n",
        "barrier_st = form.loc[form['venue'] == 'ST']\n",
        "#remove barriers 13 and 14\n",
        "barrier_st = barrier_st[(barrier_st.draw != 13) & (barrier_st.draw != 14)]\n",
        "#calculate mean winrate\n",
        "barrier_st = barrier_st.groupby(['draw'])['won'].mean()\n",
        "#Filter by Happy Valley\n",
        "barrier_hv = form.loc[form['venue'] == 'HV']\n",
        "#remove barriers 13 and 14\n",
        "barrier_hv = barrier_hv[(barrier_hv.draw != 13) & (barrier_hv.draw != 14)]\n",
        "#calculate mean winrate\n",
        "barrier_hv = barrier_hv.groupby([ 'draw'])['won'].mean()\n",
        "\n",
        "#create x axis labels\n",
        "bar_draw = ['1', '2', '3', '4', '5', '6', '7', '8', '9', '10', '11', '12']\n",
        "\n",
        "#create plot and add bar labels\n",
        "x_axis = np.arange(len(bar_draw))\n",
        "plt.bar(x_axis -0.2, barrier_st, width=0.4, label = 'Sha Tin')\n",
        "plt.bar(x_axis +0.2, barrier_hv, width=0.4, label = 'Happy Valley')\n",
        "plt.xticks(x_axis, bar_draw)\n",
        "\n",
        "#print plot\n",
        "plt.legend()\n",
        "plt.show()"
      ],
      "metadata": {
        "colab": {
          "base_uri": "https://localhost:8080/",
          "height": 430
        },
        "id": "uKVWwwXXJXVr",
        "outputId": "4af07ff0-188e-4b8b-fe70-9c0ea10536da"
      },
      "execution_count": null,
      "outputs": [
        {
          "output_type": "display_data",
          "data": {
            "text/plain": [
              "<Figure size 640x480 with 1 Axes>"
            ],
            "image/png": "[encoded data removed]"
          },
          "metadata": {}
        }
      ]
    },
    {
      "cell_type": "markdown",
      "source": [
        "### 4. Australian Horses"
      ],
      "metadata": {
        "id": "KdP5pWLqKXlf"
      }
    },
    {
      "cell_type": "markdown",
      "source": [
        "**Conditions and Distance**"
      ],
      "metadata": {
        "id": "rwFilp3wKr0A"
      }
    },
    {
      "cell_type": "code",
      "source": [
        "#filter for australian horses\n",
        "au_form = form.loc[form['horse_country'] == 'AUS']\n",
        "\n",
        "#Calculate average winrate by distance for Australia\n",
        "distance_au = form.groupby(['distance'])['won'].mean()\n",
        "#create subplot\n",
        "fig, ax = plt.subplots(ncols = 1, figsize=(10,4))\n",
        "distance_au.plot(\n",
        "    kind = 'bar',\n",
        "    figsize=[6,4],\n",
        "    title = \"Australian horses winrate by distance\",\n",
        "    color = \"yellow\"\n",
        ")\n",
        "\n",
        "#Calculate average winrate by track condition for Australia\n",
        "condition_au = form.groupby(['track_condition'])['won'].mean()\n",
        "#create subplot\n",
        "fig, ax = plt.subplots(ncols = 1 , figsize=(10,4))\n",
        "condition_au.plot(\n",
        "    kind = 'bar',\n",
        "    figsize=[6,4],\n",
        "    title = \"Australian horses winrate by condition\",\n",
        "    color = \"green\"\n",
        ")"
      ],
      "metadata": {
        "colab": {
          "base_uri": "https://localhost:8080/",
          "height": 873
        },
        "id": "85e8O6KoKf9I",
        "outputId": "34eb533c-2fdd-4399-9394-c9bebab2292c"
      },
      "execution_count": null,
      "outputs": [
        {
          "output_type": "execute_result",
          "data": {
            "text/plain": [
              "<Axes: title={'center': 'Australian horses winrate by condition'}, xlabel='track_condition'>"
            ]
          },
          "metadata": {},
          "execution_count": 124
        },
        {
          "output_type": "display_data",
          "data": {
            "text/plain": [
              "<Figure size 600x400 with 1 Axes>"
            ],
            "image/png": "[encoded data removed]"
          },
          "metadata": {}
        },
        {
          "output_type": "display_data",
          "data": {
            "text/plain": [
              "<Figure size 600x400 with 1 Axes>"
            ],
            "image/png": "[encoded data removed]"
          },
          "metadata": {}
        }
      ]
    },
    {
      "cell_type": "markdown",
      "source": [
        "## Notes & Future work"
      ],
      "metadata": {
        "id": "O3YLOjAcK-14"
      }
    },
    {
      "cell_type": "markdown",
      "source": [
        "Overall, we gleamed some insights into the characteristics and other factors that lead to a horse winning a race. Outside of odd's and barrier draw, early race speed seemed to play the largest role in predicting whether a horse is likely to win. These factors are well known to impact a horses run and are taken into account by bookmakers, meaning relying on these factors is unlikely to result in a +EV strategy."
      ],
      "metadata": {
        "id": "hHYbhYGkLE0L"
      }
    },
    {
      "cell_type": "markdown",
      "source": [
        "In the future, when i have the spare time i plan to try out some machine learning approaches on the dataset. With a focus on where a horses win odds are unnecessarily inflated due to the percieved importance of certain factors"
      ],
      "metadata": {
        "id": "TINJsvIeLH7O"
      }
    },
    {
      "cell_type": "markdown",
      "source": [
        "Note the heatmap of correlations seen below was not produced until and end of this project, as the main purpose of this project was data exploration for the sake of data exploration."
      ],
      "metadata": {
        "id": "SdUqWyDAbNId"
      }
    },
    {
      "cell_type": "code",
      "source": [
        "corr=form.corr()\n",
        "corr.style.background_gradient(cmap='Spectral').set_precision(3)"
      ],
      "metadata": {
        "colab": {
          "base_uri": "https://localhost:8080/",
          "height": 390
        },
        "id": "DcTd_JPYV4ew",
        "outputId": "f2aa16e6-d2fd-4ab8-eb53-ce5eff1de813"
      },
      "execution_count": null,
      "outputs": [
        {
          "output_type": "stream",
          "name": "stderr",
          "text": [
            "<ipython-input-140-86d83a87181a>:1: FutureWarning: The default value of numeric_only in DataFrame.corr is deprecated. In a future version, it will default to False. Select only valid columns or specify the value of numeric_only to silence this warning.\n",
            "  corr=form.corr()\n",
            "<ipython-input-140-86d83a87181a>:2: FutureWarning: this method is deprecated in favour of `Styler.format(precision=..)`\n",
            "  corr.style.background_gradient(cmap='Spectral').set_precision(3)\n"
          ]
        },
        {
          "output_type": "execute_result",
          "data": {
            "text/plain": [
              "<pandas.io.formats.style.Styler at 0x7ff605150b50>"
            ],
            "text/html": [
              "<style type=\"text/css\">\n",
              "#T_3a5cf_row0_col0, #T_3a5cf_row1_col1, #T_3a5cf_row2_col2, #T_3a5cf_row3_col3, #T_3a5cf_row4_col4, #T_3a5cf_row5_col5, #T_3a5cf_row6_col6, #T_3a5cf_row7_col7 {\n",
              "  background-color: #5e4fa2;\n",
              "  color: #f1f1f1;\n",
              "}\n",
              "#T_3a5cf_row0_col1, #T_3a5cf_row3_col0, #T_3a5cf_row4_col6, #T_3a5cf_row5_col0, #T_3a5cf_row6_col0, #T_3a5cf_row7_col2 {\n",
              "  background-color: #ba2049;\n",
              "  color: #f1f1f1;\n",
              "}\n",
              "#T_3a5cf_row0_col2, #T_3a5cf_row2_col0, #T_3a5cf_row3_col5, #T_3a5cf_row3_col7, #T_3a5cf_row7_col1, #T_3a5cf_row7_col3, #T_3a5cf_row7_col4, #T_3a5cf_row7_col6 {\n",
              "  background-color: #9e0142;\n",
              "  color: #f1f1f1;\n",
              "}\n",
              "#T_3a5cf_row0_col3, #T_3a5cf_row2_col7 {\n",
              "  background-color: #e85b48;\n",
              "  color: #f1f1f1;\n",
              "}\n",
              "#T_3a5cf_row0_col4 {\n",
              "  background-color: #fff2aa;\n",
              "  color: #000000;\n",
              "}\n",
              "#T_3a5cf_row0_col5, #T_3a5cf_row3_col2, #T_3a5cf_row5_col2, #T_3a5cf_row6_col4 {\n",
              "  background-color: #b81e48;\n",
              "  color: #f1f1f1;\n",
              "}\n",
              "#T_3a5cf_row0_col6, #T_3a5cf_row6_col5 {\n",
              "  background-color: #ad1246;\n",
              "  color: #f1f1f1;\n",
              "}\n",
              "#T_3a5cf_row0_col7 {\n",
              "  background-color: #f36b43;\n",
              "  color: #f1f1f1;\n",
              "}\n",
              "#T_3a5cf_row1_col0 {\n",
              "  background-color: #af1446;\n",
              "  color: #f1f1f1;\n",
              "}\n",
              "#T_3a5cf_row1_col2 {\n",
              "  background-color: #be254a;\n",
              "  color: #f1f1f1;\n",
              "}\n",
              "#T_3a5cf_row1_col3, #T_3a5cf_row2_col3, #T_3a5cf_row6_col3 {\n",
              "  background-color: #e75948;\n",
              "  color: #f1f1f1;\n",
              "}\n",
              "#T_3a5cf_row1_col4 {\n",
              "  background-color: #d63f4f;\n",
              "  color: #f1f1f1;\n",
              "}\n",
              "#T_3a5cf_row1_col5, #T_3a5cf_row2_col5 {\n",
              "  background-color: #b61b48;\n",
              "  color: #f1f1f1;\n",
              "}\n",
              "#T_3a5cf_row1_col6 {\n",
              "  background-color: #ea5e47;\n",
              "  color: #f1f1f1;\n",
              "}\n",
              "#T_3a5cf_row1_col7 {\n",
              "  background-color: #d23a4e;\n",
              "  color: #f1f1f1;\n",
              "}\n",
              "#T_3a5cf_row2_col1 {\n",
              "  background-color: #c9314c;\n",
              "  color: #f1f1f1;\n",
              "}\n",
              "#T_3a5cf_row2_col4 {\n",
              "  background-color: #a00343;\n",
              "  color: #f1f1f1;\n",
              "}\n",
              "#T_3a5cf_row2_col6, #T_3a5cf_row4_col2, #T_3a5cf_row4_col5 {\n",
              "  background-color: #b11747;\n",
              "  color: #f1f1f1;\n",
              "}\n",
              "#T_3a5cf_row3_col1, #T_3a5cf_row5_col1 {\n",
              "  background-color: #c52c4b;\n",
              "  color: #f1f1f1;\n",
              "}\n",
              "#T_3a5cf_row3_col4 {\n",
              "  background-color: #a70b44;\n",
              "  color: #f1f1f1;\n",
              "}\n",
              "#T_3a5cf_row3_col6 {\n",
              "  background-color: #ab0f45;\n",
              "  color: #f1f1f1;\n",
              "}\n",
              "#T_3a5cf_row4_col0 {\n",
              "  background-color: #fff7b2;\n",
              "  color: #000000;\n",
              "}\n",
              "#T_3a5cf_row4_col1 {\n",
              "  background-color: #e45549;\n",
              "  color: #f1f1f1;\n",
              "}\n",
              "#T_3a5cf_row4_col3 {\n",
              "  background-color: #e55749;\n",
              "  color: #f1f1f1;\n",
              "}\n",
              "#T_3a5cf_row4_col7 {\n",
              "  background-color: #e2514a;\n",
              "  color: #f1f1f1;\n",
              "}\n",
              "#T_3a5cf_row5_col3 {\n",
              "  background-color: #da464d;\n",
              "  color: #f1f1f1;\n",
              "}\n",
              "#T_3a5cf_row5_col4 {\n",
              "  background-color: #a40844;\n",
              "  color: #f1f1f1;\n",
              "}\n",
              "#T_3a5cf_row5_col6 {\n",
              "  background-color: #a20643;\n",
              "  color: #f1f1f1;\n",
              "}\n",
              "#T_3a5cf_row5_col7 {\n",
              "  background-color: #fca85e;\n",
              "  color: #000000;\n",
              "}\n",
              "#T_3a5cf_row6_col1 {\n",
              "  background-color: #f57245;\n",
              "  color: #f1f1f1;\n",
              "}\n",
              "#T_3a5cf_row6_col2 {\n",
              "  background-color: #c1274a;\n",
              "  color: #f1f1f1;\n",
              "}\n",
              "#T_3a5cf_row6_col7 {\n",
              "  background-color: #e1504b;\n",
              "  color: #f1f1f1;\n",
              "}\n",
              "#T_3a5cf_row7_col0 {\n",
              "  background-color: #d0384e;\n",
              "  color: #f1f1f1;\n",
              "}\n",
              "#T_3a5cf_row7_col5 {\n",
              "  background-color: #f26944;\n",
              "  color: #f1f1f1;\n",
              "}\n",
              "</style>\n",
              "<table id=\"T_3a5cf\" class=\"dataframe\">\n",
              "  <thead>\n",
              "    <tr>\n",
              "      <th class=\"blank level0\" >&nbsp;</th>\n",
              "      <th id=\"T_3a5cf_level0_col0\" class=\"col_heading level0 col0\" >race_id</th>\n",
              "      <th id=\"T_3a5cf_level0_col1\" class=\"col_heading level0 col1\" >distance</th>\n",
              "      <th id=\"T_3a5cf_level0_col2\" class=\"col_heading level0 col2\" >horse_id</th>\n",
              "      <th id=\"T_3a5cf_level0_col3\" class=\"col_heading level0 col3\" >won</th>\n",
              "      <th id=\"T_3a5cf_level0_col4\" class=\"col_heading level0 col4\" >horse_age</th>\n",
              "      <th id=\"T_3a5cf_level0_col5\" class=\"col_heading level0 col5\" >draw</th>\n",
              "      <th id=\"T_3a5cf_level0_col6\" class=\"col_heading level0 col6\" >time1</th>\n",
              "      <th id=\"T_3a5cf_level0_col7\" class=\"col_heading level0 col7\" >win_odds</th>\n",
              "    </tr>\n",
              "  </thead>\n",
              "  <tbody>\n",
              "    <tr>\n",
              "      <th id=\"T_3a5cf_level0_row0\" class=\"row_heading level0 row0\" >race_id</th>\n",
              "      <td id=\"T_3a5cf_row0_col0\" class=\"data row0 col0\" >1.000</td>\n",
              "      <td id=\"T_3a5cf_row0_col1\" class=\"data row0 col1\" >-0.019</td>\n",
              "      <td id=\"T_3a5cf_row0_col2\" class=\"data row0 col2\" >-0.054</td>\n",
              "      <td id=\"T_3a5cf_row0_col3\" class=\"data row0 col3\" >0.000</td>\n",
              "      <td id=\"T_3a5cf_row0_col4\" class=\"data row0 col4\" >0.448</td>\n",
              "      <td id=\"T_3a5cf_row0_col5\" class=\"data row0 col5\" >0.001</td>\n",
              "      <td id=\"T_3a5cf_row0_col6\" class=\"data row0 col6\" >0.002</td>\n",
              "      <td id=\"T_3a5cf_row0_col7\" class=\"data row0 col7\" >0.042</td>\n",
              "    </tr>\n",
              "    <tr>\n",
              "      <th id=\"T_3a5cf_level0_row1\" class=\"row_heading level0 row1\" >distance</th>\n",
              "      <td id=\"T_3a5cf_row1_col0\" class=\"data row1 col0\" >-0.019</td>\n",
              "      <td id=\"T_3a5cf_row1_col1\" class=\"data row1 col1\" >1.000</td>\n",
              "      <td id=\"T_3a5cf_row1_col2\" class=\"data row1 col2\" >0.010</td>\n",
              "      <td id=\"T_3a5cf_row1_col3\" class=\"data row1 col3\" >-0.000</td>\n",
              "      <td id=\"T_3a5cf_row1_col4\" class=\"data row1 col4\" >0.084</td>\n",
              "      <td id=\"T_3a5cf_row1_col5\" class=\"data row1 col5\" >0.000</td>\n",
              "      <td id=\"T_3a5cf_row1_col6\" class=\"data row1 col6\" >0.147</td>\n",
              "      <td id=\"T_3a5cf_row1_col7\" class=\"data row1 col7\" >-0.076</td>\n",
              "    </tr>\n",
              "    <tr>\n",
              "      <th id=\"T_3a5cf_level0_row2\" class=\"row_heading level0 row2\" >horse_id</th>\n",
              "      <td id=\"T_3a5cf_row2_col0\" class=\"data row2 col0\" >-0.054</td>\n",
              "      <td id=\"T_3a5cf_row2_col1\" class=\"data row2 col1\" >0.010</td>\n",
              "      <td id=\"T_3a5cf_row2_col2\" class=\"data row2 col2\" >1.000</td>\n",
              "      <td id=\"T_3a5cf_row2_col3\" class=\"data row2 col3\" >-0.003</td>\n",
              "      <td id=\"T_3a5cf_row2_col4\" class=\"data row2 col4\" >-0.016</td>\n",
              "      <td id=\"T_3a5cf_row2_col5\" class=\"data row2 col5\" >-0.002</td>\n",
              "      <td id=\"T_3a5cf_row2_col6\" class=\"data row2 col6\" >0.012</td>\n",
              "      <td id=\"T_3a5cf_row2_col7\" class=\"data row2 col7\" >0.001</td>\n",
              "    </tr>\n",
              "    <tr>\n",
              "      <th id=\"T_3a5cf_level0_row3\" class=\"row_heading level0 row3\" >won</th>\n",
              "      <td id=\"T_3a5cf_row3_col0\" class=\"data row3 col0\" >0.000</td>\n",
              "      <td id=\"T_3a5cf_row3_col1\" class=\"data row3 col1\" >-0.000</td>\n",
              "      <td id=\"T_3a5cf_row3_col2\" class=\"data row3 col2\" >-0.003</td>\n",
              "      <td id=\"T_3a5cf_row3_col3\" class=\"data row3 col3\" >1.000</td>\n",
              "      <td id=\"T_3a5cf_row3_col4\" class=\"data row3 col4\" >-0.005</td>\n",
              "      <td id=\"T_3a5cf_row3_col5\" class=\"data row3 col5\" >-0.049</td>\n",
              "      <td id=\"T_3a5cf_row3_col6\" class=\"data row3 col6\" >-0.002</td>\n",
              "      <td id=\"T_3a5cf_row3_col7\" class=\"data row3 col7\" >-0.191</td>\n",
              "    </tr>\n",
              "    <tr>\n",
              "      <th id=\"T_3a5cf_level0_row4\" class=\"row_heading level0 row4\" >horse_age</th>\n",
              "      <td id=\"T_3a5cf_row4_col0\" class=\"data row4 col0\" >0.448</td>\n",
              "      <td id=\"T_3a5cf_row4_col1\" class=\"data row4 col1\" >0.084</td>\n",
              "      <td id=\"T_3a5cf_row4_col2\" class=\"data row4 col2\" >-0.016</td>\n",
              "      <td id=\"T_3a5cf_row4_col3\" class=\"data row4 col3\" >-0.005</td>\n",
              "      <td id=\"T_3a5cf_row4_col4\" class=\"data row4 col4\" >1.000</td>\n",
              "      <td id=\"T_3a5cf_row4_col5\" class=\"data row4 col5\" >-0.010</td>\n",
              "      <td id=\"T_3a5cf_row4_col6\" class=\"data row4 col6\" >0.027</td>\n",
              "      <td id=\"T_3a5cf_row4_col7\" class=\"data row4 col7\" >-0.023</td>\n",
              "    </tr>\n",
              "    <tr>\n",
              "      <th id=\"T_3a5cf_level0_row5\" class=\"row_heading level0 row5\" >draw</th>\n",
              "      <td id=\"T_3a5cf_row5_col0\" class=\"data row5 col0\" >0.001</td>\n",
              "      <td id=\"T_3a5cf_row5_col1\" class=\"data row5 col1\" >0.000</td>\n",
              "      <td id=\"T_3a5cf_row5_col2\" class=\"data row5 col2\" >-0.002</td>\n",
              "      <td id=\"T_3a5cf_row5_col3\" class=\"data row5 col3\" >-0.049</td>\n",
              "      <td id=\"T_3a5cf_row5_col4\" class=\"data row5 col4\" >-0.010</td>\n",
              "      <td id=\"T_3a5cf_row5_col5\" class=\"data row5 col5\" >1.000</td>\n",
              "      <td id=\"T_3a5cf_row5_col6\" class=\"data row5 col6\" >-0.016</td>\n",
              "      <td id=\"T_3a5cf_row5_col7\" class=\"data row5 col7\" >0.155</td>\n",
              "    </tr>\n",
              "    <tr>\n",
              "      <th id=\"T_3a5cf_level0_row6\" class=\"row_heading level0 row6\" >time1</th>\n",
              "      <td id=\"T_3a5cf_row6_col0\" class=\"data row6 col0\" >0.002</td>\n",
              "      <td id=\"T_3a5cf_row6_col1\" class=\"data row6 col1\" >0.147</td>\n",
              "      <td id=\"T_3a5cf_row6_col2\" class=\"data row6 col2\" >0.012</td>\n",
              "      <td id=\"T_3a5cf_row6_col3\" class=\"data row6 col3\" >-0.002</td>\n",
              "      <td id=\"T_3a5cf_row6_col4\" class=\"data row6 col4\" >0.027</td>\n",
              "      <td id=\"T_3a5cf_row6_col5\" class=\"data row6 col5\" >-0.016</td>\n",
              "      <td id=\"T_3a5cf_row6_col6\" class=\"data row6 col6\" >1.000</td>\n",
              "      <td id=\"T_3a5cf_row6_col7\" class=\"data row6 col7\" >-0.027</td>\n",
              "    </tr>\n",
              "    <tr>\n",
              "      <th id=\"T_3a5cf_level0_row7\" class=\"row_heading level0 row7\" >win_odds</th>\n",
              "      <td id=\"T_3a5cf_row7_col0\" class=\"data row7 col0\" >0.042</td>\n",
              "      <td id=\"T_3a5cf_row7_col1\" class=\"data row7 col1\" >-0.076</td>\n",
              "      <td id=\"T_3a5cf_row7_col2\" class=\"data row7 col2\" >0.001</td>\n",
              "      <td id=\"T_3a5cf_row7_col3\" class=\"data row7 col3\" >-0.191</td>\n",
              "      <td id=\"T_3a5cf_row7_col4\" class=\"data row7 col4\" >-0.023</td>\n",
              "      <td id=\"T_3a5cf_row7_col5\" class=\"data row7 col5\" >0.155</td>\n",
              "      <td id=\"T_3a5cf_row7_col6\" class=\"data row7 col6\" >-0.027</td>\n",
              "      <td id=\"T_3a5cf_row7_col7\" class=\"data row7 col7\" >1.000</td>\n",
              "    </tr>\n",
              "  </tbody>\n",
              "</table>\n"
            ]
          },
          "metadata": {},
          "execution_count": 140
        }
      ]
    },
    {
      "cell_type": "markdown",
      "source": [
        "## Reference"
      ],
      "metadata": {
        "id": "j8YBIF63Lau5"
      }
    },
    {
      "cell_type": "markdown",
      "source": [
        "1. Track info Hong Kong Jockey Club. Available at: https://racing.hkjc.com/racing/english/racing-info/racing_course.aspx (Accessed: December 3, 2022).\n",
        "\n",
        "2. Hong Kong racecourses: Know your horse racetracks in Hong Kong (2020) www.progroupracing.com.au. Available at: https://www.progroupracing.com.au/hong-kong-racecourses (Accessed: December 2, 2022).\n",
        "\n",
        "3. Gulum, Mehmet Akif, \"Horse racing prediction using graph-based features.\" (2018). Electronic Theses and Dissertations. Paper 2953.\n",
        "https://doi.org/10.18297/etd/2953\n",
        "\n",
        "4. Donato, M. (2017) Cracking the horse racing code, Bleacher Report. Bleacher Report. Available at: https://bleacherreport.com/articles/27781-cracking-the-horse-racing-code (Accessed: December 4, 2022).\n",
        "\n",
        "5. The eight most important analysis factors, Punters.com.au. Available at: https://www.punters.com.au/newsthe-eight-most-important-analysis-factors-20080612/ (Accessed: December 4, 2022)."
      ],
      "metadata": {
        "id": "Fjx72kQ6LfmA"
      }
    }
  ]
}